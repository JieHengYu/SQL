{
 "cells": [
  {
   "cell_type": "markdown",
   "id": "c85fa223-bb9e-4397-924f-bb5dd7601db7",
   "metadata": {},
   "source": [
    "# Creating Your First Database & Table\n",
    "\n",
    "A table is a grid of rows & columns that store data. Each row holds a collection of columns & each column contains data of a specified type: most commonly, numbers, characters, & dates. We use SQL to define the structure of a table & how each table might relate to other tables in the database. We also use SQL to extract, or *query*, data from tables.\n",
    "\n",
    "In this lesson, we'll create a database, add a table & insert several rows of data into the table using SQL in the pgAdmin interface. Then we'll use pgAdmin to view the results. Let's start looking at tables."
   ]
  },
  {
   "cell_type": "markdown",
   "id": "244bfc8f-8e94-4c02-b2d1-f02d521df2cc",
   "metadata": {},
   "source": [
    "---"
   ]
  },
  {
   "cell_type": "markdown",
   "id": "bb294c6b-e860-4d3a-b3e9-3158a5909e2d",
   "metadata": {},
   "source": [
    "# Tables\n",
    "\n",
    "Before we dig into SQL, let's look at an example of what the contents of tables might look like. We'll use a hypothetical database for managing a school's class enrollment; within that database are several tables that track students & their classes. The first table, called `student_enrollment` shows the students that are signed up for each class section:\n",
    "\n",
    "|student_id|class_id|class_section|semester|\n",
    "|:---:|:---:|:---:|:---:|\n",
    "|CHRISPA004|COMPSCI101|3|Fall 2023|\n",
    "|DAVISHE010|COMPSCI101|3|Fall 2023|\n",
    "|ABRILDA002|ENG101|40|Fall 2023|\n",
    "|DAVISHE010|ENG101|40|Fall 2023|\n",
    "|RILEYPH002|ENG101|40|Fall 2023|\n",
    "\n",
    "The table shows that two students have signed up for `COMPSCI101` & three have signed up for `ENG101`. But where are the details about each student & class? In this example, these details are stored in separate tables called `students` & `classes`, & those tables relate to this one. This is where the power of *relational database` begins to show itself.\n",
    "\n",
    "The first several rows of the `students` table include the following:\n",
    "\n",
    "|student_id|first_name|last_name|dob|\n",
    "|:---:|:---:|:---:|:---:|\n",
    "|ABRILDA002|Abril|Davis|2005-01-10|\n",
    "|CHRISPA004|Chris|Park|1999-04-10|\n",
    "|DAVISHE010|Davis|Hernandez|2006-09-14|\n",
    "|RILEYPH002|Riley|Phelps|2005-06-15|\n",
    "\n",
    "The `students` table contains details on each student, using the value in `student_id` column to identify each one. That value acts as a unique *key* that connects both tables, giving you the ability to create rows such as the following with the `class_id` column from `student_enrollment` & the `first_name` & `last_name` columns from `students`:\n",
    "\n",
    "|class_id|first_name|last_name|\n",
    "|:---:|:---:|:---:|\n",
    "|COMPSCI101|Davis|Hernandez|\n",
    "|COMPSCI101|Chris|Park|\n",
    "|ENG101|Abril|Davis|\n",
    "|ENG101|Davis|Hernandez|\n",
    "|ENG101|Riley|Phelps|\n",
    "\n",
    "The `classes` table would work the same way, with a `class_id` column & several columns of detail about the class. Database builders prefer to organise data using separate tables for each main *entity* the database manages in order to reduce redundant data. In the example, we store each student's name & date of birth just once. Even if the student signs up for multiple classes -- as Davis Hernandez did -- we won't waste database space entering his name next to each class in the `student_enrollment` table. We just include his student ID.\n",
    "\n",
    "Given that tables are a core building block of every database, in this lesson, you'll start your SQL coding adventure by creating a table inside a new database. Then you'll load data into the table & view the completed table."
   ]
  },
  {
   "cell_type": "markdown",
   "id": "aeb2a681-7594-4ba4-a615-8239d0da3ed4",
   "metadata": {},
   "source": [
    "---"
   ]
  },
  {
   "cell_type": "markdown",
   "id": "9e538b4d-50bb-4467-9f80-bee8e366a4ee",
   "metadata": {},
   "source": [
    "# Creating a Database\n",
    "\n",
    "The PostgreSQL program we installed in lesson 1 is a *database management system*, a software package that allows us to define, manage, & query data stored in databases. A database is a collection of objects that includes tables, functions, & more. When we installed PostgreSQL, it created a *database server* -- an instance of the application running on our computer -- that includes a default database called `postgres`.\n",
    "\n",
    "According ot the PostgreSQL documentation, the default `postgres` database is \"meant for use by users, utilities & third-party applications\". We'll create a new database to use for the examples in the book rather than use the default, so we can keep objects related to a particular topic or application organised together. This is good practice: it avoids a pileup of tables in a single database that have no relation to each other & it ensures that if your data will be used to power an application, such as a mobile app, the app database will only contain relevant information.\n",
    "\n",
    "To create a database, we only need one line of SQL, which we'll run using pgAdmin. \n",
    "\n",
    "```\n",
    "CREATE DATABASE analysis;\n",
    "```\n",
    "\n",
    "This statement creates a database named `analysis` on your server using default PostgreSQL settings. Note that the code consists of two keywords -- `CREATE` & `DATABASE` -- followed by the name fo the new database. You end the statement with a semicolon, which signals the end of a command. You must end all PostgreSQL statements with a semicolon, as part of the ANSI SQL standard. Sometimes, your queries will work even if you omit the semicolon, but not always, so using the semicolon is a good habit to form.\n",
    "\n",
    "## Executing SQL in pgAdmin\n",
    "\n",
    "We'll use pgAdmin to run the SQL statement above. Then we'll connect to the new database & create a table. Launch *Postgres.app* from your applications folder (if you have an elephant icon in your menu bar, it means its running). \n",
    "\n",
    "Launch pgAdmin. You may be prompted to enter the master password for pgAdmin you set the first time you launched the application.\n",
    "\n",
    "In the left vertical pane (the object browser) click the arrow to the left of the Servers node to show the default server. Dependinding on how you installed PostgreSQL, the default server may be named *localhost* or *PostgreSQL x*, where *x* is the version of the application. You may receive another password prompt. This prompt is for PostgreSQL, so enter the password you set for PostgreSQL during installation.\n",
    "\n",
    "In pgAdmin's object browser, expand **Databases** & click `postgres` once to highlight it.\n",
    "\n",
    "<img src = \"Default postgres Database.png\" width = \"600\" style = \"margin:auto\"/>\n",
    "\n",
    "Open the Query Tool by choosing **Tools -> Query Tool**. In the Query Editor pane, enter the code to create the database.\n",
    "\n",
    "Click the **Execute/Refresh** icon (shaped like a right arrow) to execute the statement. PostgreSQL creates the database, & in the Output pane, you'll see a notice indicating the query returned successfully.\n",
    "\n",
    "<img src = \"Create Database Named analysis.png\" width = \"600\" style = \"margin:auto\"/>\n",
    "\n",
    "To see your new database, right-click **Databases** in the object browser. From the pop-up menu, select **Refresh**, & the `analysis` database will appear in the list.\n",
    "\n",
    "<img src = \"analysis Database in Object Browser.png\" width = \"200\" style = \"margin:auto\"/>\n",
    "\n",
    "You now have a database called `analysis`, which you can use for the majority of the exercises in this course. In your own work, it's generally a best practice to create a new database for each project to keep tables with related data together.\n",
    "\n",
    "## Connecting to the analysis Database\n",
    "\n",
    "Before you create a table, you must ensure that pgAdmin is connected to the `analysis` database rather than the default `postgres` database.\n",
    "\n",
    "To do that, close the Query Tool by clicking the **X** at the far right of the tool pane. You don't need to save the file. In the object browser, click **analysis** once. Open a new Query Tool window, this time connected to the `analysis` database, by choosing **Tools -> Query Tool**.  You should now see the label `analysis/postgres@localhost` at the top of the QueryTool window (Again, instead of `localhost`, your version may show `PostgreSQL`).\n",
    "\n",
    "Now, any code you execute will apply to the `analysis` database."
   ]
  },
  {
   "cell_type": "markdown",
   "id": "0ca4faba-c86b-4e68-bb12-b6c413be00e9",
   "metadata": {},
   "source": [
    "---"
   ]
  },
  {
   "cell_type": "markdown",
   "id": "dbb344d8-207c-4be4-ad62-dcbcce40c6e6",
   "metadata": {},
   "source": [
    "# Creating a Table\n",
    "\n",
    "As I mentioned, tables are where data lives & its relationships are defined. When you create a table, you assign a name to each *column* (sometimes referred to as a *field* or *attribute*) & assign each column a *data type*. These are the values the column will accept -- such as text, integers, decimals, & dates -- & the definition of the data type is one way SQL enforces the integrity of the data.\n",
    "\n",
    "Data stored in a table can be accessed, analysed, or queried, with SQL statements. You can sort, edit, & view the data, as well as easily alter the table later if your needs change.\n",
    "\n",
    "Let's make a table in the `analysis` database.\n",
    "\n",
    "## Using the CREATE TABLE Statement\n",
    "\n",
    "For this example, we'll use an often-discussed piece of data: teacher salaries. The below code shows the SQL statement to create a table called `teachers`. \n",
    "\n",
    "```\n",
    "CREATE TABLE teachers (id bigserial,\n",
    "                       first_name varchar(25),\n",
    "                       last_name varchar(50),\n",
    "                       school varchar(50),\n",
    "                       hire_date date,\n",
    "                       salary numeric)\n",
    "```\n",
    "\n",
    "The code begins with two SQL keywords `CREATE` & `TABLE` that together with the name `teachers` signal PostgreSQL that the next bit of code describes a table to add to the database. Following an opening parenthesis, the statement includes a comma-separated list of column names along with their data types. \n",
    "\n",
    "Each column name represents one discrete data element defined by a data type. The `id` column is of data type `bigserial`, a special integer type that auto-incremenets every time you add a row to the table. The first row receives the value of `1` in the `id` column, the second row `2`, & so on. The `bigserial` data type & other serial types are PostgreSQL-specific implementations, but most database systems have a similar feature.\n",
    "\n",
    "Next, we create columns for the teacher's first & last name. Each is of the data type `varchar`, a text column with a maximum length specified by the number in the parentheses. We're assuming that no one in the database will have a last name of more than 50 characters. \n",
    "\n",
    "The teacher's `hire_date` is set to the data type `date` & the salary column is numeric.\n",
    "\n",
    "Let's run this code in pgAdmin.\n",
    "\n",
    "## Making the teachers Table\n",
    "\n",
    "Enter the code above into the SQL Editor & execute the script by clicking the **Execute/Refresh** icon. \n",
    "\n",
    "<img src = \"Creating teachers Table.png\" width = \"600\" style = \"margin:auto\"/>\n",
    "\n",
    "Now find, the table you created. Go the object browser, right-click **analysis** & choose **Refresh**. Choose **Schemas -> public -> Tables** to see your new table.\n",
    "\n",
    "<img src = \"teachers Table in Object Browser.png\" width = \"200\" style = \"margin:auto\"/>\n",
    "\n",
    "Expand the `teachers` table node by clicking the arrow to the left of its name. This reveals more information about the table, including the column names.\n",
    "\n",
    "<img src = \"Table Details for teachers.png\" width = \"200\" style = \"margin:auto\"/>\n",
    "\n",
    "Congratulations! You've built a database & added a table to it. But it's empty. The next step is to add data to the table so you write your first query."
   ]
  },
  {
   "cell_type": "markdown",
   "id": "0dc2b99f-2afa-4d54-ba54-d25193456c28",
   "metadata": {},
   "source": [
    "---"
   ]
  },
  {
   "cell_type": "markdown",
   "id": "02072e46-aac9-48a0-a71d-5311fcadbe71",
   "metadata": {},
   "source": [
    "# Inserting Rows into a Table\n",
    "\n",
    "There are many ways to add data to a PostgreSQL table. But to get started, we'll add a few rows using an `INSERT INTO ... VALUES` statement that specifies the target columns & the data values. Then we'll view the data in its new home.\n",
    "\n",
    "## Using the INSERT Statement\n",
    "\n",
    "To insert some data into the table, you need to enter the following code:\n",
    "\n",
    "```\n",
    "INSERT INTO teachers (first_name, last_name, school, hire_date, salary)\n",
    "VALUES ('Janet', 'Smith', 'F.D. Roosevelt HS', '2011-10-30', 36200),\n",
    "       ('Lee', 'Reynolds', 'F.D. Roosevelt HS', '1993-05-22', 65000),\n",
    "       ('Samuel', 'Cole', 'Myers Middle School', '2005-07-01', 43500),\n",
    "       ('Samantha', 'Bush', 'Myers Middle School', '2011-10-30', 36200),\n",
    "       ('Betty', 'Diaz', 'Myers Middle School', '2005-08-30', 43500),\n",
    "       ('Kathleen', 'Roush', 'F.D. Roosevelt HS', '2010-10-22', 38500);\n",
    "```\n",
    "\n",
    "This code block inserts name & data for six teachers. Here, the PostgreSQL syntax follows the ANSI SQL standard: after the `INSERT INTO` keywords is the name of the table, & in parentheses are the columns to be filled. In the next row are the `VALUES` keyword & the data to insert into each column in each row. you need to close the data for each row in a set of parentheses, & inside each set of parentheses, use a comma to separate the column value. The order of the values must also match the otder of the columns specified after the table name. Each row of data ends with a comma, execpt the last row, which ends the entire statement with a semicolon.\n",
    "\n",
    "Notice that certain values we're inserting are enclosed in single quotes, while some are not. This is a standard SQL requirement. Text & dates require quotes, while numbers don't require quotes. Also note the date format we're using: a four-digit year is followed by the month & date, & each part is joined by a hyphen. This is the international standard for date formats; using it will help avoid confusion.\n",
    "\n",
    "You might also be wondering about the `id` column. which is the first column in the table. When you created the table, your script specified that column to be the `bigserial` data type. So as PostgreSQL inserts each row, it automatically fills the `id` column with an auto-incrementing integer. \n",
    "\n",
    "Now run the code.\n",
    "\n",
    "<img src = \"Insert Data into teachers Table.png\" width = \"600\" style = \"margin:auto\"/>\n",
    "\n",
    "The last of the two numbers after the `INSERT` keyword in the message area of the Query Tool reports the nubmer of rows inserted: `6`. \n",
    "\n",
    "## Viewing the Data\n",
    "\n",
    "You can take a quick look at the data you just loaded into the `teachers` table using pgAdmin. In the object browser, locate the table & right-click. In the pop-up menu, choose **View/Edit Data -> All Rows**.\n",
    "\n",
    "<img src = \"Viewing Table Data Directly in pgAdmin.png\" width = \"600\" style = \"margin:auto\"/>\n",
    "\n",
    "notice that even though you didn't insert a value for the `id` column, each teacher has an ID number assigned. Also, each column header displays the data type you defined when creating the table. (Note that `varchar`, fully expanded in PostgreSQL, is `character varying`.) Seeign the data type in the results will help later when you decide how to write queries that handle data differently depending on its type.\n",
    "\n",
    "There are multiple ways to view data using the pgAdmin interface, but we'll focus on writing SQL to handle those tasks from now on."
   ]
  },
  {
   "cell_type": "markdown",
   "id": "bcfb51b2-3231-475b-aecd-6d02bd1178c0",
   "metadata": {},
   "source": [
    "---"
   ]
  },
  {
   "cell_type": "markdown",
   "id": "e29af60a-cc24-4d94-8755-80de7646a02a",
   "metadata": {},
   "source": [
    "# Formatting SQL for Readability\n",
    "\n",
    "SQL requires no special formatting, so you're free to use your own style. But that won't win you any friends when others need to work with your code. For the sake of readability & being a good coder, here are several generally accepted conventions.\n",
    "\n",
    "Uppercase SQL keywords, such as `SELECT`. Some SQL coders also uppercase the names of data types, such as `TEXT` & `INTEGER`.\n",
    "\n",
    "Avoid camel case & instead use `lowercase_and_underscores` for object names, such as tables & column names.\n",
    "\n",
    "Indent clauses & clode blocks for readability using either two or four spaces. You may prefer tabs to spaces; use whichever works best for you & your organisation."
   ]
  },
  {
   "cell_type": "markdown",
   "id": "023afc37-af07-49fc-af1b-6df2c33e9072",
   "metadata": {},
   "source": [
    "---"
   ]
  },
  {
   "cell_type": "markdown",
   "id": "2c1aef48-0a43-4b94-8baf-332c4b4593eb",
   "metadata": {},
   "source": [
    "# Wrapping Up\n",
    "\n",
    "We've accomplished quite a bit this lesson: we created a database & a table, & then loaded data into it. You're on your way to adding SQL to your data analysis toolkit."
   ]
  }
 ],
 "metadata": {
  "kernelspec": {
   "display_name": "Python 3 (ipykernel)",
   "language": "python",
   "name": "python3"
  },
  "language_info": {
   "codemirror_mode": {
    "name": "ipython",
    "version": 3
   },
   "file_extension": ".py",
   "mimetype": "text/x-python",
   "name": "python",
   "nbconvert_exporter": "python",
   "pygments_lexer": "ipython3",
   "version": "3.12.4"
  }
 },
 "nbformat": 4,
 "nbformat_minor": 5
}

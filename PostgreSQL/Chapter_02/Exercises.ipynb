{
 "cells": [
  {
   "cell_type": "markdown",
   "id": "c634710e-11f1-4718-ad48-4e151badf511",
   "metadata": {},
   "source": [
    "# Exercises\n",
    "\n",
    "Here are two exercises to help you explore concepts related to databases, tables & data relationships:\n",
    "\n",
    "Imagine you're building a database to catalog all the animals at your local zoo. You want one table to track the kinds of animals in the collection & another table to track the specifics on each animal. Write `CREATE TABLE` statements for each table that include some of the columns you need. Why did you include the columns you chose?\n",
    "\n",
    "Now, create `INSERT` statements to load sample data into the tables. how can you view the data via the pgAdmin tool? Create an additional `INSERT` statement for one of your tables. Purposely omit one of the required commas separationg the entries in the `VALUES` clause of the query. What is the error message? Would it help you find the error in the code?"
   ]
  },
  {
   "cell_type": "markdown",
   "id": "e1acf798-11f1-4ffa-aa0c-06f29af37d43",
   "metadata": {},
   "source": [
    "---"
   ]
  },
  {
   "cell_type": "markdown",
   "id": "76336a8b-8908-4ebb-aa06-cb129c8d7a45",
   "metadata": {},
   "source": [
    "Here, I create a table named `zoo`.\n",
    "\n",
    "<img src = \"Exercise Images/Create zoo Table.png\" width = \"600\" style = \"margin:auto\"/>\n",
    "\n",
    "I included `animal_id` so that if I had another table in the database, I wouldn't have to save the other features multiple times. I could just include `animal_id` in the other table & join the tables together along the `animal_id` feature. `animal_name` is self-explanatory. As for the rest of the features, I included them to see the taxonomic distinction between different animals.\n",
    "\n",
    "Now, I insert data into the `zoo` table, purposely omitting a comma after \"Amur Leopard\".\n",
    "\n",
    "<img src = \"Exercise Images/Insert Syntax Error.png\" width = \"600\" style = \"margin:auto\"/>\n",
    "\n",
    "This gives us the error message: \n",
    "\n",
    "```\n",
    "Error: syntax error at or near '\"Eukaryote\"'\n",
    "LINE 4: VALUES ('Amur Leopard' 'Eukaryote', 'Animal',\n",
    "                               ^\n",
    "```\n",
    "\n",
    "The error message points at the location of the error & lets us know that this is a syntax error. Now, let's fix the error.\n",
    "\n",
    "<img src = \"Exercise Images/Insert Into zoo Table.png\" width = \"600\" style = \"margin:auto\"/>\n",
    "\n",
    "Now that we've inserted data into the `zoo` table, we can visualise it by entering the following SQL statement.\n",
    "\n",
    "```\n",
    "SELECT * FROM zoo;\n",
    "```\n",
    "\n",
    "This just tells pgAdmin to select all rows & columns from the `zoo` table & display the result.\n",
    "\n",
    "<img src = \"Exercise Images/View zoo Table.png\" width = \"600\" style = \"margin:auto\"/>"
   ]
  },
  {
   "cell_type": "markdown",
   "id": "156d2f58",
   "metadata": {},
   "source": []
  }
 ],
 "metadata": {
  "kernelspec": {
   "display_name": "Python 3 (ipykernel)",
   "language": "python",
   "name": "python3"
  },
  "language_info": {
   "codemirror_mode": {
    "name": "ipython",
    "version": 3
   },
   "file_extension": ".py",
   "mimetype": "text/x-python",
   "name": "python",
   "nbconvert_exporter": "python",
   "pygments_lexer": "ipython3",
   "version": "3.12.4"
  }
 },
 "nbformat": 4,
 "nbformat_minor": 5
}

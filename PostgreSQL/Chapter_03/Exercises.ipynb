{
 "cells": [
  {
   "cell_type": "markdown",
   "id": "cc5114b1-8290-4305-9308-85b3b2ffab7c",
   "metadata": {},
   "source": [
    "# Exercises\n",
    "\n",
    "Explore basic queries with these exercises:\n",
    "\n",
    "1. The school district superintendent asks for a list of teachers in each school. Write a query that lists the schools in alphabetical order along with teachers ordered by last name A-Z.\n",
    "2. Write a query that finds the one teacher whose first name starts with the letter *S* & who earns more than $40,000.\n",
    "3. Rank teachers hired since January 1, 2010, ordered by highest paid to lowest."
   ]
  },
  {
   "cell_type": "markdown",
   "id": "91f6862b-3c74-441d-ae84-ea625585f664",
   "metadata": {},
   "source": [
    "---"
   ]
  },
  {
   "cell_type": "markdown",
   "id": "557872e5-0141-45aa-8b36-9d4ab30f70fd",
   "metadata": {},
   "source": [
    "# 1.\n",
    "\n",
    "```\n",
    "SELECT school, first_name, last_name\n",
    "FROM teachers\n",
    "ORDER BY school, last_name;\n",
    "```\n",
    "\n",
    "<img src = \"Exercise Images/Exercise 1.png\" width = \"600\" style = \"margin:auto\"/>\n",
    "\n",
    "# 2.\n",
    "\n",
    "```\n",
    "SELECT first_name, last_name, salary\n",
    "FROM teachers\n",
    "WHERE first_name LIKE 'S%'\n",
    "    AND salary > 40000;\n",
    "```\n",
    "\n",
    "<img src = \"Exercise Images/Exercise 2.png\" width = \"600\" style = \"margin:auto\"/>\n",
    "\n",
    "# 3.\n",
    "\n",
    "```\n",
    "SELECT *\n",
    "FROM teachers\n",
    "WHERE hire_date >= '2010-01-01'\n",
    "ORDER BY salary DESC;\n",
    "```\n",
    "\n",
    "<img src = \"Exercise Images/Exercise 3.png\" width = \"600\" style = \"margin:auto\"/>"
   ]
  }
 ],
 "metadata": {
  "kernelspec": {
   "display_name": "Python 3 (ipykernel)",
   "language": "python",
   "name": "python3"
  },
  "language_info": {
   "codemirror_mode": {
    "name": "ipython",
    "version": 3
   },
   "file_extension": ".py",
   "mimetype": "text/x-python",
   "name": "python",
   "nbconvert_exporter": "python",
   "pygments_lexer": "ipython3",
   "version": "3.12.4"
  }
 },
 "nbformat": 4,
 "nbformat_minor": 5
}

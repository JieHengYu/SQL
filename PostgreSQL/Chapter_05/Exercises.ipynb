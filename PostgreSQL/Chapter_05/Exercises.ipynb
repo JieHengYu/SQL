{
 "cells": [
  {
   "cell_type": "markdown",
   "id": "85544913-cdc8-4fec-8e9c-2848966a1078",
   "metadata": {},
   "source": [
    "# Exercises\n",
    "\n",
    "1. Write a `WITH` statement to include with `COPY` to handle the import of an imaginary text file whose first couple rows look like this:\n",
    "\n",
    "```\n",
    "id:movie:actor\n",
    "50:#Mission: Impossible#:Tom Cruise\n",
    "```\n",
    "\n",
    "2. Using the table `us_counties_pop_est_2019` you created & filled in this chapter, export to a CSV file 20 counties in the United States that had the most births. (Hint: births are totaled for each county in the column `births_2019`).\n",
    "\n",
    "3. Imagine you're importing a file that contains a column with these values. Will a column in your target table with data type `numeric(3, 8)` work for these values? Why or why not?\n",
    "\n",
    "```\n",
    "17519.668\n",
    "20084.461\n",
    "18976.335\n",
    "```"
   ]
  },
  {
   "cell_type": "markdown",
   "id": "cb92ccd2-0805-4a2b-a162-b4c6aac762d9",
   "metadata": {},
   "source": [
    "---"
   ]
  },
  {
   "cell_type": "markdown",
   "id": "e4c622a9-4e5d-4a44-92fa-c085f6791431",
   "metadata": {},
   "source": [
    "# 1. \n",
    "Our delimiter here is the colon, `:`, & it seems like our quote character is the hashtag, `#`. I'm going to assume that we have this empty table already generated:\n",
    "\n",
    "```\n",
    "CREATE TABLE movies {\n",
    "    id smallint PRIMARY KEY,\n",
    "    movie text,\n",
    "    actor text\n",
    "};\n",
    "```\n",
    "\n",
    "Then, we can use this `COPY` statement to import the text file:\n",
    "\n",
    "```\n",
    "COPY movies\n",
    "FROM '/YourDirectory/imaginary_text_file.txt'\n",
    "WITH (FORMAT CSV, HEADER, DELIMITER ':', QUOTE '#')\n",
    "```\n",
    "\n",
    "We can then check our work with a `SELECT` statement.\n",
    "\n",
    "```\n",
    "SELECT * FROM movies;\n",
    "```\n",
    "\n",
    "<img src = \"\" width = \"600\" style = \"margin:auto\"/>\n",
    "\n",
    "# 2.\n",
    "\n",
    "Let's see what we're going to export.\n",
    "\n",
    "```\n",
    "SELECT * FROM us_counties_pop_est_2019\n",
    "ORDER BY births_2019 DESC\n",
    "LIMIT 20;\n",
    "```\n",
    "\n",
    "Ok, let's export our query result.\n",
    "\n",
    "```\n",
    "COPY (\n",
    "    SELECT * FROM us_counties_pop_est_2019\n",
    "    ORDER BY births_2019 DESC\n",
    "    LIMIT 20;\n",
    ")\n",
    "TO '/YourDirectory/us_counties_top20_births.csv'\n",
    "WITH (FORMAT CSV, HEADER);\n",
    "```\n",
    "\n",
    "<img src = \"\" width = \"600\" style = \"margin:auto\"/>\n",
    "\n",
    "# 3.\n",
    "\n",
    "No, use `numeric(8, 3)` instead. The first argument in the `numeric()` function is the precision & the second argument is the scale. Precision is the total number of digits in the decimal number. Scale is the number of digits to the right of the decimal point. If we look at the numbers in our file, they all have 3 digits after the decimal point, so our scale is 3. They all also consist of 8 digits, so the precision is 8. This gives us our data type `numeric(8, 3)`. "
   ]
  }
 ],
 "metadata": {
  "kernelspec": {
   "display_name": "Python 3 (ipykernel)",
   "language": "python",
   "name": "python3"
  },
  "language_info": {
   "codemirror_mode": {
    "name": "ipython",
    "version": 3
   },
   "file_extension": ".py",
   "mimetype": "text/x-python",
   "name": "python",
   "nbconvert_exporter": "python",
   "pygments_lexer": "ipython3",
   "version": "3.11.5"
  }
 },
 "nbformat": 4,
 "nbformat_minor": 5
}

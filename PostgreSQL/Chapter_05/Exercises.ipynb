{
 "cells": [
  {
   "cell_type": "markdown",
   "id": "85544913-cdc8-4fec-8e9c-2848966a1078",
   "metadata": {},
   "source": [
    "# Exercises\n",
    "\n",
    "1. Write a `WITH` statement to include with `COPY` to handle the import of an imaginary text file whose first couple rows look like this:\n",
    "\n",
    "```\n",
    "id:movie:actor\n",
    "50:#Mission: Impossible#:Tom Cruise\n",
    "```\n",
    "\n",
    "2. Using the table `us_counties_pop_est_2019` you created & filled in this chapter, export to a CSV file to 20 counties in the United States that had the most births. (Hint: births are totaled for each county in the column `births_2019`).\n",
    "\n",
    "3. Imagine you're importing a file that contains a column with these values. Will a column in your target table with data type `numeric(3, 8)` work for these values? Why or why not?\n",
    "\n",
    "```\n",
    "17519.668\n",
    "20084.461\n",
    "18976.335\n",
    "```"
   ]
  },
  {
   "cell_type": "markdown",
   "id": "cb92ccd2-0805-4a2b-a162-b4c6aac762d9",
   "metadata": {},
   "source": [
    "---"
   ]
  },
  {
   "cell_type": "code",
   "execution_count": null,
   "id": "e3df2427-40f0-473e-9fbd-d74c986a2751",
   "metadata": {},
   "outputs": [],
   "source": []
  }
 ],
 "metadata": {
  "kernelspec": {
   "display_name": "Python 3 (ipykernel)",
   "language": "python",
   "name": "python3"
  },
  "language_info": {
   "codemirror_mode": {
    "name": "ipython",
    "version": 3
   },
   "file_extension": ".py",
   "mimetype": "text/x-python",
   "name": "python",
   "nbconvert_exporter": "python",
   "pygments_lexer": "ipython3",
   "version": "3.11.5"
  }
 },
 "nbformat": 4,
 "nbformat_minor": 5
}

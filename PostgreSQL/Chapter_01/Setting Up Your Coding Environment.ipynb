{
 "cells": [
  {
   "cell_type": "markdown",
   "id": "160d56f2-439e-4e44-8849-0cf1c7094850",
   "metadata": {},
   "source": [
    "# Setting Up Your Coding Environment\n",
    "\n",
    "We'll begin by installing the resources you'll need to follow along with the lessons & complete the exercises. In this lesson, we'll install a text editor, download the example code & data, & then install the PostgreSQL database system & its companion graphical user interface, pgAdmin. When you're finished, your computer will have a robust environment for you to learn how to analyse data with SQL.\n",
    "\n",
    "Our first task will be to set up a text editor suitable for working with data."
   ]
  },
  {
   "cell_type": "markdown",
   "id": "08b0162a-0750-4e76-a7c2-110f934be379",
   "metadata": {},
   "source": [
    "---"
   ]
  },
  {
   "cell_type": "markdown",
   "id": "42cc745c-49ae-4aff-a794-a1c43a34597f",
   "metadata": {},
   "source": [
    "# Installing a Text Editor\n",
    "\n",
    "The source data we'll be adding to our SQL databse is stored in multiple text files, in a format called *comma-separated values* (CSV). We'll learn more about the CSV format, but for now let's make sure we have a text editor that will let you open those files without inadvertently harming the data.\n",
    "\n",
    "Common business aplications -- word processors & spreadsheet programs -- tend to introduce styles or hideen characters into files without asking, & that makes using them for data work problematic, as data software experts expect data in precise formats. For example, if you open a CSV file with Microsoft Excel, the program will automatically alter some data to make it more human-readable; for example, it assumes that an item code of `3-09` is a date & formats it as `9-Mar`. Text editros deal exclusively with plain text with no embellishments such as formatting, & for that reason, programmers use them to edit files that hold source code, data, & software configurations -- all cases where you want your text to be treated as text, & nothing more.\n",
    "\n",
    "Any text editor will work for this course's purposes. Here are some that you can use:\n",
    "\n",
    "* Visual Studio Code: [https://code.visualstudio.com/](https://code.visualstudio.com/)\n",
    "* Sublime Text: [https://www.sublimetext.com/](https://www.sublimetext.com/)\n",
    "\n",
    "If you don't have a text editor, download & install one & get familiar with the basics of opening folders & working with files.\n",
    "\n",
    "Next, let's get the book's example code & data."
   ]
  },
  {
   "cell_type": "markdown",
   "id": "d384640b-44f2-4c62-a41b-d8df3fa21fed",
   "metadata": {},
   "source": [
    "---"
   ]
  },
  {
   "cell_type": "markdown",
   "id": "e09c6308-10be-4eda-aa0b-ec0d5e918477",
   "metadata": {},
   "source": [
    "# Downloading Code & Data from GitHub\n",
    "\n",
    "All of the code & data you'll be working with through this couse is available for download.\n",
    "\n",
    "Visit this [page](https://nostarch.com/practical-sql-2nd-edition/) & under **Download Resources**, click **Download the code for the 2nd edition from GitHub**. This will lead you to the github repository that holds the material. You should see a green code button. Click it & select **Download ZIP** to save the ZIP file to your computer.\n",
    "\n",
    "Unzip the file. You should see a folder named *practical-sql-2-master* that contains various files & subfolders for this course. Place this folder where you can easily find it.\n",
    "\n",
    "Inside this folder, for each lesson, you'll find a subfolder named *Chapter_XX* (*XX* is the lesson number). Inside these subfolders includes code examples that also have a file named *Chapter_XX* that ends with a *.sql* extension. This is a SQL code file that you can open in your text editor or with the PostgreSQL administrative tool you'll install later in the lesson. The lesson folders also contain public data you'll use in the exercises, stored in CSV & other text-based files. As noted, it's fine to view CSV files with a true text editor, but don't open these files with Excel or a word processor.\n",
    "\n",
    "Now, let's load the database software."
   ]
  },
  {
   "cell_type": "markdown",
   "id": "99ffc9ea-0699-405f-a733-fa27feb69b55",
   "metadata": {},
   "source": [
    "---"
   ]
  },
  {
   "cell_type": "markdown",
   "id": "a8f77614-1afb-489e-ba9a-38d591940bc0",
   "metadata": {},
   "source": [
    "# Installing PostgreSQL & pgAdmin\n",
    "\n",
    "In this section, we'll install the PostgreSQL database system & a companion graphical administrative tool, pgAdmin. pdAdmin is a helpful visual workspace for managing our PostgreSQL databse. Its interface lets us see our database objects, manage settings, import & export data , & write queries, which is the code that retrieves data from your database.\n",
    "\n",
    "\n",
    "## macOS Installation\n",
    "\n",
    "For macOS users -- that's me, we'll obtain the Postgres.app, an open source macOS application that includes PostgreSQL as well as the PostGIS extension & a few other goodies. Separately, we'll need to install the pgAdmin GUI & the Python language for use in functions.\n",
    "\n",
    "### Installing Postgres.app & pgAdmin\n",
    "\n",
    "Visit [https://postgresapp.com/](https://postgresapp.com/) & download the latest release of the app. This will be a disk image file that ends in *.dmg*. Double click the *.dmg* file to open it, then drag & drop the app icon into your *Applications* folder.\n",
    "\n",
    "In your *Applications* folder, double-click the app icon to launch Postgres.app. When Postgres.app opens, click **Initialize** to create & start a PostgreSQL database server.\n",
    "\n",
    "A small elephant icon will appear in your menu bar to indicate that your database is running. To set up the included PostgreSQL command line tools so you can use them in the future, open your Terminal application & run the following line of code at the prompt (You can copy the code as a single line from the Postgres.app site at [https://postgresapp.com/documentation/install.html](https://postgresapp.com/documentation/install.html):\n",
    "\n",
    "```\n",
    "sudo mkdir -p /etc/paths.d && echo /Applications/Postgres.app/Contents/Versions/latest/bin | sudo tee /etc/paths.d/postgresapp\n",
    "```\n",
    "\n",
    "You may be prompted for the password you use to log in to your Mac. Enter it & the commands should execute without providing output.\n",
    "\n",
    "Next, because Postgres.app doesn't include pgAdmin, we'll install pgAdmin. Visit the pgAdmin site's page for macOS downloads: [https://www.pgadmin.org/download/pgadmin-4-macos/](https://www.pgadmin.org/download/pgadmin-4-macos/) & download the latest version (look for a disk image file that ends in *.dmg*). Double clikc the *.dmg* file, click the prompt to accept the terms, then drag pgAdmin's elephant app icon into your *Applications*folder.\n",
    "\n",
    "### Installing Python\n",
    "\n",
    "In a later lesson, we'll learn how to use the Python programming language with PostgreSQL. To use Python with Postgres.app, you must install a specific version of the language. Visit the official Python site at [https://www.python.org/](https://www.python.org/) & click the downloads menu. In the list of releases, find & download the latest version of Python. The download is an Apple software package file that ends in *.pkg*. Double-click the package file to install Python, clicking through license agreements. Close the installer when finished.\n",
    "\n",
    "Python requirements for Postgres.app may change over time. Check its Python documentation at [https://postgresapp.com/documentation/plpython.html](https://postgresapp.com/documentation/plpython.html)."
   ]
  },
  {
   "cell_type": "markdown",
   "id": "9e34796b-affe-4f4e-bd35-dfed6b338105",
   "metadata": {},
   "source": [
    "---"
   ]
  },
  {
   "cell_type": "markdown",
   "id": "a2175a34-8762-4119-a49e-c92da93adb4e",
   "metadata": {},
   "source": [
    "# Working with pgAdmin\n",
    "\n",
    "The final piece of your setup puzzle is to get familiar with pgAdmin, an administrative & management tool for PostgreSQL. The pgAdmin software is free, but don't underestimate its performance; it's a full-featured tool as powerfulas paid tools like Microsoft's SQL Server Management Studio. With pgAdmin, you get a graphical interface where you can configure multiple aspects of your PostgreSQL server & databases, & use a SQL query tool for writing, running, & saving queries.\n",
    "\n",
    "## Launching pgAdmin & Setting a Master Password\n",
    "\n",
    "Click the **pgAdmin** icon in your *Applications* folder, making sure you've also launched Postgre.app.\n",
    "\n",
    "You should see the pgAdmin splash screen, followed by the application opening. If it's your first time launching pgAdmin, you may also receive a prompt to set a master password. This password is not related to theone you set up during PostgreSQL install. Let a master password & click **ok**.\n",
    "\n",
    "<img src = \"pgAdmin App.png\" width = \"600\" style = \"margin:auto\"/>\n",
    "\n",
    "The pgAdmin layout includes a left vertical pane that displays an object browser where you can view available servers, databases, users, & other objects. Across the top of the screen is a collection of menu items, & below those are tabs to disaply various aspects of database objects & performance. Next, let's connect to our database.\n",
    "\n",
    "## Connecting to the Default Postgres Database\n",
    "\n",
    "PostgreSQL is a *database management system*, which means it's software that allows you to define, manage, & query databases. When you installed PostgreSQL, it created a *database server* -- an instance of the application running on your computer -- that includes a default database called `postgres`. A database is a collection of objects that include tables, functions, & much more, & this is where your actual data will lie. We use the SQL language (as well as pgAdmin) to manage objects & data stored in the database.\n",
    "\n",
    "In the object browser, click the downward-pointing arrow to the left of the Servers node to show the default server. Depending on your operating system, the default server name could be *localhost* or *PostgreSQL x* where *x* is the Postgres version number.\n",
    "\n",
    "Double click the server name. If prompted, enter the database password you chose during installation. A brief message appears while pgAdmin is establishing a connection. When connected, several new object items should display under the server name. \n",
    "\n",
    "Expand Databases & expand the default database `postgres`.\n",
    "\n",
    "Under `postgres`, expand the Schemas object, & then expand public.\n",
    "\n",
    "<img src = \"pgAdmin Object Browser.png\" width = \"600\" style = \"margin:auto\"/>\n",
    "\n",
    "**Note:** *If pgAdmin doesn't show a default under Servers, you'll need to add it. Right-click Severs & click **Create -> Server**. In the dialog, enter a name for your server in the General tab. On the Connection tab, in the Host name/address box, enter `localhost`. Fill in your username/password you supplied when installing PostgreSQL & click **Save**. You should now see your server listed.*\n",
    "\n",
    "This collection of objects defines every feature of your database server, including tables, where we store the data. To view a view a table's structure or performs actions on it with pgAdmin, you can access the table here. \n",
    "\n",
    "## Exploring the Query Tool\n",
    "\n",
    "The pgAdmin app includes a *Query Tool*, which is where we write & execute code. To open the Query Tool, in pgAdmin's object browser, click once on any database to highlight it. For example, click the `postgres` database & select **Tools -> Query Tool** from your menu bar. You'll see three panes: a Query Editor, a Scratch Pad for holding code snippets while you work, & a Data Output pane that displays query results. You can open multiple tabs to connect to & write queries for different databases or just to organise your code the way you would like. To open another tab, click a database in the object browser & open the Query Tool again via the menu bar.\n",
    "\n",
    "Let's run a simple query & see its output, using a statement that returns the version of PostgresQL we installed. Enter the below code:\n",
    "\n",
    "```\n",
    "SELECT version();\n",
    "```\n",
    "\n",
    "If you downloaded the lesson codes from Github, click **Open File** icon on the pgAdmin toolbar & navigate to the folder where you saved the code to open the file *Chapter_01.sql* in the *Chapter_01* folder. To execute the statement, highlight the line beginning with `SELECT` & click the **Execute/Refresh** icon in the toolbar (it's shaped like a play button). PostgreSQL should return the server's version as a result in the pgAdmin Data Output pane.\n",
    "\n",
    "<img src = \"Check Version.png\" width = \"600\" style = \"margin:auto\"/>\n",
    "\n",
    "We'll learn more about queries later in the course, but for now, all you need to know is that this query uses a PostgreSQL-specific *function* called `version()` to retrieve the version information for the server. In my case, the output shows I'm running PostgreSQL 17.0, & it provides additional specifics about the build of the software."
   ]
  },
  {
   "cell_type": "markdown",
   "id": "84fd6288-cdaa-4512-834e-d3013005fff9",
   "metadata": {},
   "source": [
    "---"
   ]
  },
  {
   "cell_type": "markdown",
   "id": "64f3bfed-a5a7-4efc-8c54-a561a93d40b4",
   "metadata": {},
   "source": [
    "# Alternatives to pgAdmin/Wrapping Up\n",
    "\n",
    "Although pgAdmin is used in this course, you're not required to use it for these exercises. If you prefer another administrative tool that works with PostgreSQL, feel free to use it.\n",
    "\n",
    "Now that you've set up your environment with code, a text editor, PostgreSQL, & pgAdmin, you're ready to start learning SQL & use it to discover valuable insights into your data."
   ]
  }
 ],
 "metadata": {
  "kernelspec": {
   "display_name": "Python 3 (ipykernel)",
   "language": "python",
   "name": "python3"
  },
  "language_info": {
   "codemirror_mode": {
    "name": "ipython",
    "version": 3
   },
   "file_extension": ".py",
   "mimetype": "text/x-python",
   "name": "python",
   "nbconvert_exporter": "python",
   "pygments_lexer": "ipython3",
   "version": "3.12.4"
  }
 },
 "nbformat": 4,
 "nbformat_minor": 5
}

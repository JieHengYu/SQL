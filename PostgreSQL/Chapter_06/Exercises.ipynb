{
 "cells": [
  {
   "cell_type": "markdown",
   "id": "b8292449-53c6-47b6-ae59-7aae5c7f593f",
   "metadata": {},
   "source": [
    "# Exercises\n",
    "\n",
    "Here are three exercises to test your SQL math skills:\n",
    "\n",
    "1. Write a SQL statement for calculating the area of a circle whose radius is 5 inches. Do you need parentheses in your calculation? Why or why not?\n",
    "2. Using the 2019 US Census county estimates data, calculate a ratio of births to deaths for each county in New York state. Which region of the state generally say a higher ratio of births to deaths in 2019?\n",
    "3. Was the 2019 median county population estimate higher in California or New York?"
   ]
  },
  {
   "cell_type": "markdown",
   "id": "5cf436b8-3206-49b6-a2d7-1425517fa087",
   "metadata": {},
   "source": [
    "---"
   ]
  },
  {
   "cell_type": "markdown",
   "id": "c385fcc4-2e60-4e39-b5d9-134924a7623b",
   "metadata": {},
   "source": [
    "# 1.\n",
    "\n",
    "The area of an circle is $\\pi r^2$. We will not be needing a parentheses because PostgreSQL follows PEMDAS. PEMDAS says exponents are calculated before multiplication.\n",
    "\n",
    "```\n",
    "SELECT pi() * 5 ^ 2 AS area_of_circle;\n",
    "```\n",
    "\n",
    "<img src = \"Exercise Images/Area of Circle.png\" width = \"600\" style = \"margin:auto\"/>\n",
    "\n",
    "A quick check with a calculator can confirm that the area of a circle with radius 5 is equal to `78.5398`.\n",
    "\n",
    "# 2.\n",
    "\n",
    "```\n",
    "SELECT county_name, \n",
    "\t   state_name, \n",
    "\t   births_2019,\n",
    "\t   deaths_2019,\n",
    "\t   ROUND(CAST(births_2019 AS numeric) / \n",
    "\t       CAST(deaths_2019 AS numeric), 5) AS ratio\n",
    "FROM us_counties_pop_est_2019\n",
    "WHERE state_name = 'New York'\n",
    "ORDER BY ratio DESC;\n",
    "```\n",
    "\n",
    "<img src = \"Exercise Images/Birth Death Ratio.png\" width = \"600\" style = \"margin:auto\"/>\n",
    "\n",
    "With the exception of Jefferson County, the counties with the highest birth-to-death ratio all seem to be in the Southern part of New York -- close to/in Long Island.\n",
    "\n",
    "# 3.\n",
    "\n",
    "```\n",
    "SELECT state_name,\n",
    "       percentile_cont(0.5) WITHIN GROUP (ORDER BY\n",
    "           pop_est_2019) AS median_county_pop\n",
    "FROM us_counties_pop_est_2019\n",
    "WHERE state_name IN ('California', 'New York')\n",
    "GROUP BY state_name;\n",
    "```\n",
    "\n",
    "<img src = \"Exercise Images/Comparing Median County Population in CA vs NY.png\" width = \"600\" style = \"margin:auto\"/>\n",
    "\n",
    "The median county population estimate is higher in California."
   ]
  }
 ],
 "metadata": {
  "kernelspec": {
   "display_name": "Python 3 (ipykernel)",
   "language": "python",
   "name": "python3"
  },
  "language_info": {
   "codemirror_mode": {
    "name": "ipython",
    "version": 3
   },
   "file_extension": ".py",
   "mimetype": "text/x-python",
   "name": "python",
   "nbconvert_exporter": "python",
   "pygments_lexer": "ipython3",
   "version": "3.12.4"
  }
 },
 "nbformat": 4,
 "nbformat_minor": 5
}

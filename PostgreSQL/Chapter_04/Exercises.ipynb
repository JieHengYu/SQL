{
 "cells": [
  {
   "cell_type": "markdown",
   "id": "65c1457b-1132-4134-8663-8eafc7ac88ed",
   "metadata": {},
   "source": [
    "# Exercises\n",
    "\n",
    "Continue exploring data types with these exercises:\n",
    "\n",
    "Your company delivers fruits & vegetables to local grocery stores, & you need to track the mileage driven by each driver each day to a tenth of a mile. Assuming no driver would even travel more than 999 miles in a day, what would be an appropriate data type for the mileage column in your table? Why?\n",
    "\n",
    "In the table listing each driver in your company, what are appropriate data types for the drivers' first & last names? Why is it a good idea to separate first & last names into two columns rather than having one larger name column?\n",
    "\n",
    "Assume you have a text column that includes strings formatted as dates. One of the strings is written as `'4//2021'`. What will happen when you try to convert that string to the `timestamp` data type?"
   ]
  },
  {
   "cell_type": "markdown",
   "id": "c46c3585-8f2c-4407-bccb-4ad13786b496",
   "metadata": {},
   "source": [
    "---"
   ]
  },
  {
   "cell_type": "markdown",
   "id": "59925c01-76e7-45c3-b5b4-8e9761b89ac5",
   "metadata": {},
   "source": [
    "1. You can probably get by using the `numeric(precision, scale)` or `decimal(precision, scale)`, specifying `numeric(4, 1)` or `decimal(4, 1)`. Since we only need to track mileage driven by each driver each day to a tenth of a mile, we only need 1 digit behind the decimal point, so we set the scale to 1. We also assume that drivers would not drive past 999 miles in one day. That means that at maximum, there will be 4 digits, 3 digits before the decimal & 1 digit after.\n",
    "\n",
    "2. The character data types would be the most appropriate data types for the names of the drivers. I would personally opt for the `text` data type. Even though it is PostgreSQL-specific, I don't have to specify the maximum number of characters in the drivers' names like in the `char()` & `varchar()` data types & I get to save a bit of storage space because I won't be saving any whitespace into the drivers' names. It's a good idea to separate first & last names into two columns because if they were combined into one larger name column, we wouldn't know if the name is written in what order. Would the driver enter their name as last name, then first name, as some people do? Or would they enter their first name, then last name?\n",
    "\n",
    "3. It would throw a syntax error.\n",
    "\n",
    "```\n",
    "ERROR: invalid input syntax for type timestamp: \"4//2021\"\n",
    "```\n",
    "\n",
    "<img src = \"Exercise Images/Date Conversion Syntax Error.png\" width = \"600\" style = \"margin:auto\"/>"
   ]
  }
 ],
 "metadata": {
  "kernelspec": {
   "display_name": "Python 3 (ipykernel)",
   "language": "python",
   "name": "python3"
  },
  "language_info": {
   "codemirror_mode": {
    "name": "ipython",
    "version": 3
   },
   "file_extension": ".py",
   "mimetype": "text/x-python",
   "name": "python",
   "nbconvert_exporter": "python",
   "pygments_lexer": "ipython3",
   "version": "3.12.4"
  }
 },
 "nbformat": 4,
 "nbformat_minor": 5
}

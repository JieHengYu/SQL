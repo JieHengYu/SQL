{
 "cells": [
  {
   "cell_type": "markdown",
   "id": "7b105c6e-99d9-4a35-abc7-b2e95c3ba597",
   "metadata": {},
   "source": [
    "# Exercises\n",
    "\n",
    "To reinforce the techniques in this chapter, choose an example from an earlier lesson & try working thgouh it using only the command line. Lesson 15, \"Analysing Spatial Data with PostGIS\", is a good choice because it gives us the opportunitiy to work with `psql` & the shapefile loader `shp2pgsql`. That said, you are encoursaged to choose any example that you think you would benefit from reviewing."
   ]
  },
  {
   "cell_type": "markdown",
   "id": "37da8a71-e8bf-4e90-9df5-068f1dbb2714",
   "metadata": {},
   "source": [
    "---"
   ]
  },
  {
   "cell_type": "markdown",
   "id": "44033fb1-8fbf-4273-812c-0609336e6771",
   "metadata": {},
   "source": [
    "We're going to review importing the shape files from with the command line. In the lesson, we imported the *tl_2019_us_county.shp* via the command line. This time, we'll practice importing the *tl_2019_35049_linearwater.shp* & *tl_2019_35049_roads.shp* files via the command line.\n",
    "\n",
    "We'll first open our command prompt & enter the following code to check if the tables `tl_2019_35049_linearwater` & `tl_2019_35049 roads` exist. Then we'll enter `\\q` to quit `psql`:\n",
    "\n",
    "```\n",
    "psql -d analysis -U postgres\n",
    "analysis=# \\dt\n",
    "```\n",
    "\n",
    "<img src = \"Exercise Images/Listing Tables in the analysis Database.png\" width = \"600\" style = \"margin:auto\"/>\n",
    "\n",
    "Looks like they don't exist. Now we'll quit `psql` by entering `\\q` & begin importing our tables.\n",
    "\n",
    "We'll start with *tl_2019_35049_linearwater.shp*. We'll change our working directory to the folder containing said shapefile, then enter the following code into the command prompt:\n",
    "\n",
    "```\n",
    "shp2pgsql -I -s 4269 -W Latin1 tl_2019_35049_linearwater.shp tl_2019_35049_linearwater_shp | psql -d analysis -U postgres\n",
    "```\n",
    "\n",
    "Success!\n",
    "\n",
    "<img src = \"Exercise Images/Importing tl_2019_35049_linearwater Shapefile via Command Prompt.png\" width = \"600\" style = \"margin:auto\"/>\n",
    "\n",
    "Now we'll change our working directory to the folder containing the *tl_2019_35049_roads.shp* file, & enter the following code into the command prompt:\n",
    "\n",
    "```\n",
    "shp2pgsql -I -s 4269 -W Latin1 tl_2019_35049_roads.shp tl_2019_35049_roads_shp | psql -d analysis -U postgres\n",
    "```\n",
    "\n",
    "Also a success.\n",
    "\n",
    "<img src = \"Exercise Images/Importing tl_2019_35049_roads Shapefile via Command Prompt.png\" width = \"600\" style = \"margin:auto\"/>\n",
    "\n",
    "You can check that the import was done correctly by connecting to the `analysis` database & running some simple `SELECT` queries on the imported tables.\n",
    "\n",
    "<img src = \"Exercise Images/Viewing the tl_2019_35049_linearwater_shp Table.png\" width = \"600\" style = \"margin:auto\"/>\n",
    "\n",
    "<img src = \"Exercise Images/Viewing the tl_2019_35049_roads_shp Table.png\" width = \"600\" style = \"margin:auto\"/>\n",
    "\n",
    "To free up space though, I'll drop our newly imported tables.\n",
    "\n",
    "<img src = \"Exercise Images/Dropping the Tables.png\" width = \"600\" style = \"margin:auto\"/>"
   ]
  }
 ],
 "metadata": {
  "kernelspec": {
   "display_name": "Python 3 (ipykernel)",
   "language": "python",
   "name": "python3"
  },
  "language_info": {
   "codemirror_mode": {
    "name": "ipython",
    "version": 3
   },
   "file_extension": ".py",
   "mimetype": "text/x-python",
   "name": "python",
   "nbconvert_exporter": "python",
   "pygments_lexer": "ipython3",
   "version": "3.12.4"
  }
 },
 "nbformat": 4,
 "nbformat_minor": 5
}

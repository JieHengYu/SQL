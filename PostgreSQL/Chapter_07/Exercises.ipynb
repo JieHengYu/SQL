{
 "cells": [
  {
   "cell_type": "markdown",
   "id": "44d896e9-fe57-480d-9a32-bd092d96a0dc",
   "metadata": {},
   "source": [
    "# Exercises\n",
    "\n",
    "Continue your exploration of joins & set operators with these exercises:\n",
    "\n",
    "1. According to the census population estimates, which county had the greatest percentage loss of population between 2010 & 2019? Try an internet search to find out what happened.\n",
    "2. Apply the concepts you learned about `UNION` to create query results that merge queries of the census county population estimates for 2010 & 2019. Your results should includea column called `year` that specifies the year of the estimate for each row in the results.\n",
    "3. Using the `percentile_cont()` function, determine the median percent change in estimated county population between 2010 & 2019."
   ]
  },
  {
   "cell_type": "markdown",
   "id": "8ff405ac-cf9c-451f-845c-31db41237942",
   "metadata": {},
   "source": [
    "---"
   ]
  },
  {
   "cell_type": "markdown",
   "id": "4c829c33-7790-48cb-885b-39d3950c66b5",
   "metadata": {},
   "source": [
    "# 1.\n",
    "\n",
    "```\n",
    "SELECT c2019.county_name,\n",
    "\t   c2019.state_name,\n",
    "\t   c2019.pop_est_2019,\n",
    "\t   c2010.estimates_base_2010,\n",
    "\t   c2019.pop_est_2019 - c2010.estimates_base_2010\n",
    "\t       AS difference,\n",
    "\t   round((c2019.pop_est_2019::numeric - \n",
    "\t   \t   c2010.estimates_base_2010) / \n",
    "\t\t   c2010.estimates_base_2010 * 100, 1)\n",
    "\t\t   AS pct_change\n",
    "FROM us_counties_pop_est_2019 AS c2019\n",
    "LEFT JOIN us_counties_pop_est_2010 AS c2010\n",
    "ON c2019.state_name = c2010.state_name\n",
    "\tAND c2019.county_name = c2010.county_name\n",
    "ORDER BY pct_change;\n",
    "```\n",
    "\n",
    "Concho County in Texas saw the greatest percentage loss in population from 2010 to 2019. Concho County is already a small town, but it also was the home to Eden's prison. The prison once hosted more than 1,500 prisoners & employed about 250 people, closed in 2017, which could explain the steep drop-off in population.\n",
    "\n",
    "# 2.\n",
    "\n",
    "```\n",
    "SELECT '2019' AS year,\n",
    "\t   county_name,\n",
    "\t   state_name,\n",
    "\t   pop_est_2019 AS county_population\n",
    "FROM us_counties_pop_est_2019\n",
    "UNION\n",
    "SELECT '2010' AS year,\n",
    "\t   county_name,\n",
    "\t   state_name,\n",
    "\t   estimates_base_2010 AS county_population\n",
    "FROM us_counties_pop_est_2010 AS c2010\n",
    "ORDER BY state_name, county_name, year;\n",
    "```\n",
    "\n",
    "Our result has 6,284 rows, which is double of 3,142, because there are two years, 2010 & 2019, in the dataset.\n",
    "\n",
    "<img src = \"Exercise Images/Combining Census Data with UNION.png\" width = \"600\" style = \"margin:auto\"/>\n",
    "\n",
    "# 3.\n",
    "\n",
    "```\n",
    "SELECT percentile_cont(0.5) WITHIN GROUP (ORDER BY \n",
    "\t\t   c2019.pop_est_2019) AS median_county_pop_2019,\n",
    "\t   percentile_cont(0.5) WITHIN GROUP (ORDER BY\n",
    "\t       c2010.estimates_base_2010)\n",
    "\t\t   AS median_county_pop_2010,\n",
    "\t   (percentile_cont(0.5) WITHIN GROUP (ORDER BY \n",
    "\t   \t   c2019.pop_est_2019) - \n",
    "\t\t   percentile_cont(0.5) WITHIN GROUP (ORDER BY\n",
    "\t       c2010.estimates_base_2010)) / \n",
    "\t\t   percentile_cont(0.5) WITHIN GROUP (ORDER BY \n",
    "\t\t   c2019.pop_est_2019) * 100 AS pct_change \n",
    "FROM us_counties_pop_est_2019 AS c2019\n",
    "LEFT JOIN us_counties_pop_est_2010 AS c2010\n",
    "ON c2019.county_name = c2010.county_name\n",
    "\tAND c2019.state_name = c2010.state_name;\n",
    "```\n",
    "\n",
    "<img src = \"Exercise Images/Median County Population Change from 2010 to 2019.png\" width = \"600\" style = \"margin:auto\"/>\n",
    "\n",
    "The median county population decreased from 2010 to 2019, but the difference is miniscule: -0.51%."
   ]
  }
 ],
 "metadata": {
  "kernelspec": {
   "display_name": "Python 3 (ipykernel)",
   "language": "python",
   "name": "python3"
  },
  "language_info": {
   "codemirror_mode": {
    "name": "ipython",
    "version": 3
   },
   "file_extension": ".py",
   "mimetype": "text/x-python",
   "name": "python",
   "nbconvert_exporter": "python",
   "pygments_lexer": "ipython3",
   "version": "3.12.4"
  }
 },
 "nbformat": 4,
 "nbformat_minor": 5
}

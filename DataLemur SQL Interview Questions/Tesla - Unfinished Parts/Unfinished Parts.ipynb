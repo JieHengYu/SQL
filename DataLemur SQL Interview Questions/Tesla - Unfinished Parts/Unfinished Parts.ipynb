{
 "cells": [
  {
   "cell_type": "markdown",
   "id": "4dbf1f16-ab4e-4884-b68a-a8246829028b",
   "metadata": {},
   "source": [
    "# Unfinished Parts\n",
    "\n",
    "Tesla is investigating production bottlenecks & they need your help to extract the relevant data. Write a query to determine which parts have begun the assembly process but aren't finished yet.\n",
    "\n",
    "Assumptions:\n",
    "\n",
    "* `parts_assembly` table contains all parts currently in production, each at varying stages of the assembly process\n",
    "* An unfinished part is one that lacks a `finish_date`.\n",
    "\n",
    "# Answer\n",
    "\n",
    "This is what the `parts_assembly` table looks like:\n",
    "\n",
    "```\n",
    "CREATE TABLE parts_assembly (\n",
    "\tpart varchar(10),\n",
    "\tfinish_date timestamp,\n",
    "\tassembly_step smallint\n",
    ");\n",
    "\n",
    "INSERT INTO parts_assembly\n",
    "VALUES ('battery', '01/22/2022 00:00:00', 1),\n",
    "\t   ('battery', '02/22/2022 00:00:00', 2),\n",
    "\t   ('battery', '03/22/2022 00:00:00', 3),\n",
    "\t   ('bumper', '01/22/2022 00:00:00', 1),\n",
    "\t   ('bumper', '02/22/2022 00:00:00', 2),\n",
    "\t   ('bumper', NULL, 3),\n",
    "\t   ('bumper', NULL, 4);\n",
    "\n",
    "SELECT * FROM parts_assembly;\n",
    "```\n",
    "\n",
    "<img src = \"parts_assembly Table.png\" width = \"600\" style = \"margin:auto\"/>\n",
    "\n",
    "Based on the assumption that an unfinished part is one that lacks a `finish_date` column value, all we have to do is find the part that has a missing `finish_date` column.\n",
    "\n",
    "```\n",
    "SELECT *\n",
    "FROM parts_assembly\n",
    "WHERE finish_date IS NULL;\n",
    "```\n",
    "\n",
    "<img src = \"Unfinished Parts.png\" width = \"600\" style = \"margin:auto\"/>\n",
    "\n",
    "Looks like there are two bumpers, one at `assembly_step` 3, another at `assembly_step` 4, that have not finished assembly yet. "
   ]
  }
 ],
 "metadata": {
  "kernelspec": {
   "display_name": "Python 3 (ipykernel)",
   "language": "python",
   "name": "python3"
  },
  "language_info": {
   "codemirror_mode": {
    "name": "ipython",
    "version": 3
   },
   "file_extension": ".py",
   "mimetype": "text/x-python",
   "name": "python",
   "nbconvert_exporter": "python",
   "pygments_lexer": "ipython3",
   "version": "3.12.4"
  }
 },
 "nbformat": 4,
 "nbformat_minor": 5
}

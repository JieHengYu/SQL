{
 "cells": [
  {
   "cell_type": "markdown",
   "id": "66189636-4696-4256-81b3-642d30d4c7a8",
   "metadata": {},
   "source": [
    "# Histogram of Users & Purchases\n",
    "\n",
    "Assume you're given a table on Walmart user transactions. Based on their most recent transaction date, write a query that retrieves the users along with the number of products they bought.\n",
    "\n",
    "Output the user's most recent transaction date, user ID, & the number of products, sorted in chronological order by the transaction date.\n",
    "\n",
    "# Answers\n",
    "\n",
    "This query requires the `user_transactions` table:\n",
    "\n",
    "```\n",
    "CREATE TABLE user_transactions (\n",
    "\tproduct_id smallint,\n",
    "\tuser_id smallint,\n",
    "\tspend numeric(5, 2),\n",
    "\ttransaction_date timestamp\n",
    ");\n",
    "\n",
    "COPY user_transactions\n",
    "FROM '/YourDirectory/user_transactions.csv'\n",
    "WITH (FORMAT CSV, HEADER);\n",
    "\n",
    "SELECT * FROM user_transactions;\n",
    "```\n",
    "\n",
    "<img src = \"user_transactions Table.png\" width = \"600\" style = \"margin:auto\"/>\n",
    "\n",
    "I will first find the most recent transaction date for each user, & then join the `user_transactions` onto it to count the number of purchases on their most recent transaction date.\n",
    "\n",
    "```\n",
    "SELECT recent_trans.user_id,\n",
    "\t   recent_trans.transaction_date,\n",
    "\t   count(product_id) AS purchases\n",
    "FROM (\n",
    "\tSELECT user_id,\n",
    "\t\t   max(transaction_date) AS transaction_date\n",
    "\tFROM user_transactions\n",
    "\tGROUP BY user_id\n",
    ") AS recent_trans\n",
    "LEFT JOIN user_transactions AS ut\n",
    "\tON recent_trans.user_id = ut.user_id\n",
    "\t\tAND recent_trans.transaction_date = \n",
    "\t\tut.transaction_date\n",
    "GROUP BY recent_trans.user_id, \n",
    "\trecent_trans.transaction_date\n",
    "ORDER BY transaction_date;\n",
    "```\n",
    "\n",
    "<img src = \"User Most Recent Purchases.png\" width = \"600\" style = \"margin:auto\"/>\n",
    "\n",
    "For user 123's most recent purchase, dated July 11, 2022, he/she purchased one item. For user 115's most recent purchase, dated July 12, 2022, he/she purchased one item. For user 159's most recent purchase, dated July 12, 2022, he/she purchased two items."
   ]
  }
 ],
 "metadata": {
  "kernelspec": {
   "display_name": "Python 3 (ipykernel)",
   "language": "python",
   "name": "python3"
  },
  "language_info": {
   "codemirror_mode": {
    "name": "ipython",
    "version": 3
   },
   "file_extension": ".py",
   "mimetype": "text/x-python",
   "name": "python",
   "nbconvert_exporter": "python",
   "pygments_lexer": "ipython3",
   "version": "3.12.4"
  }
 },
 "nbformat": 4,
 "nbformat_minor": 5
}

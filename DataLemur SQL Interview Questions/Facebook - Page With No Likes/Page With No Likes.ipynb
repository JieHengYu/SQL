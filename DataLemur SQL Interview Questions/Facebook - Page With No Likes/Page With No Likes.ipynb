{
 "cells": [
  {
   "cell_type": "markdown",
   "id": "cb57bdb0-45fb-466b-a222-bd434ced7758",
   "metadata": {},
   "source": [
    "# Page With No Likes\n",
    "\n",
    "Assume you're given two tables, `pages` & `page_likes`, containing data about Facebook Pages & their respective likes. \n",
    "\n",
    "Write a query to return the IDs of the Facebook pages that have zero likes. The output should be sorted in ascending order based on the page IDs.\n",
    "\n",
    "# Answer\n",
    "\n",
    "First, let's see the `pages` & `page_likes` tables.\n",
    "\n",
    "```\n",
    "CREATE TABLE pages (\n",
    "\tpage_id integer,\n",
    "\tpage_name varchar(25)\n",
    ");\n",
    "\n",
    "INSERT INTO pages\n",
    "VALUES (20001, 'SQL Solutions'),\n",
    "\t   (20045, 'Brain Exercises'),\n",
    "\t   (20701, 'Tips for Data Analysts');\n",
    "\n",
    "CREATE TABLE page_likes (\n",
    "\tuser_id smallint,\n",
    "\tpage_id integer,\n",
    "\tliked_date timestamp\n",
    ");\n",
    "\n",
    "INSERT INTO page_likes\n",
    "VALUES (111, 20001, '04/08/2022 00:00:00'),\n",
    "\t   (121, 20045, '03/12/2022 00:00:00'),\n",
    "\t   (156, 20001, '07/25/2022 00:00:00');\n",
    "\n",
    "SELECT * FROM pages;\n",
    "\n",
    "SELECT * FROM page_likes;\n",
    "```\n",
    "\n",
    "<img src = \"pages Table.png\" width = \"600\" style = \"margin:auto\"/>\n",
    "\n",
    "<img src = \"page_likes Table.png\" width = \"600\" style = \"margin:auto\"/>\n",
    "\n",
    "We're going to have to join the tables & then from the joined table, we'll look for the page(s) that don't have a value for the `liked_date` column. It's also ordered by `page_id`.\n",
    "\n",
    "```\n",
    "SELECT *\n",
    "FROM pages\n",
    "LEFT JOIN page_likes\n",
    "    ON pages.page_id = page_likes.page_id\n",
    "WHERE liked_date IS NULL\n",
    "ORDER BY pages.page_id;\n",
    "```\n",
    "\n",
    "<img src = \"Facebook Page With No Likes.png\" width = \"600\" style = \"margin:auto\"/>\n",
    "\n",
    "The *Tips for Data Analysts* page doesn't have any likes."
   ]
  }
 ],
 "metadata": {
  "kernelspec": {
   "display_name": "Python 3 (ipykernel)",
   "language": "python",
   "name": "python3"
  },
  "language_info": {
   "codemirror_mode": {
    "name": "ipython",
    "version": 3
   },
   "file_extension": ".py",
   "mimetype": "text/x-python",
   "name": "python",
   "nbconvert_exporter": "python",
   "pygments_lexer": "ipython3",
   "version": "3.12.4"
  }
 },
 "nbformat": 4,
 "nbformat_minor": 5
}

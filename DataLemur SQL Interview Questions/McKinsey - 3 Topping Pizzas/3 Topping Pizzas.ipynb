{
 "cells": [
  {
   "cell_type": "markdown",
   "id": "d8f5bbaf-a4e4-4a4e-a10b-f26880fcf1ed",
   "metadata": {},
   "source": [
    "# 3 Topping Pizzas\n",
    "\n",
    "You're a consultant for a major pizza chain that will be running a promotion where all 3 topping pizzas will be sold for a fixed price, & are trying to understand the costs involved.\n",
    "\n",
    "Given a list of pizza toppings, consider all the possible 3 topping pizzas, & print out the total cost of those 3 toppings. Sort the results with the highest total cost on the top followed by pizza toppings in ascending order.\n",
    "\n",
    "Break ties by listing the ingredients in alphabetical order, starting from the first ingredient, followed by the second, & third.\n",
    "\n",
    "Notes:\n",
    "\n",
    "* Do not display pizzas where a topping is repeated. For example, **Pepperoni, Pepperoni, Onion Pizza**.\n",
    "* Ingredients must be listed in alphabetical order. For example, **Chicken, Onions, Sausage**. **Onion, Sausage, Chicken** is not acceptable.\n",
    "\n",
    "# Answer\n",
    "\n",
    "The table I will use is `pizza_toppings`:\n",
    "\n",
    "```\n",
    "CREATE TABLE pizza_toppings (\n",
    "\tingredient_cost numeric(3, 2),\n",
    "\ttopping_name text\n",
    ");\n",
    "\n",
    "COPY pizza_toppings\n",
    "FROM '/YourDirectory/pizza_toppings.csv'\n",
    "WITH (FORMAT CSV, HEADER);\n",
    "\n",
    "SELECT * FROM pizza_toppings;\n",
    "```\n",
    "\n",
    "<img src = \"pizza_toppings Table.png\" width = \"600\" style = \"margin:auto\">\n",
    "\n",
    "This query is demanding a lot. First, I've got to find a way to generate all possible combinations. `CROSS JOIN`!\n",
    "\n",
    "```\n",
    "SELECT (p1.topping_name || ',' || p2.topping_name || ',' \n",
    "\t   \t   || p3.topping_name) AS pizza,\n",
    "\t   (p1.ingredient_cost + p2.ingredient_cost +\n",
    "\t   \t   p3.ingredient_cost) AS total_cost\n",
    "FROM pizza_toppings p1\n",
    "CROSS JOIN pizza_toppings p2\n",
    "CROSS JOIN pizza_toppings p3\n",
    "WHERE p1.topping_name != p2.topping_name \n",
    "\tAND p1.topping_name != p3.topping_name\n",
    "\tAND p2.topping_name != p3.topping_name\n",
    "\tAND p1.topping_name < p2.topping_name\n",
    "\tAND p2.topping_name < p3.topping_name\n",
    "ORDER BY total_cost DESC;\n",
    "```\n",
    "\n",
    "<img src = \"3 Topping Pizzas & Their Cost.png\" width = \"600\" style = \"margin:auto\"/>\n",
    "\n",
    "Not surprisingly, the most expensive 3 topping pizza is one with three meat toppings (Chicken, Pepperoni & Sausage = \\\\$1.75) & the cheapest 3 topping piza is one with three vegetable toppings (Green Peppers, Jalapenos & Onions = \\\\$0.55). This is probably fake data, so I shouldn't be reading too much into it..."
   ]
  }
 ],
 "metadata": {
  "kernelspec": {
   "display_name": "Python 3 (ipykernel)",
   "language": "python",
   "name": "python3"
  },
  "language_info": {
   "codemirror_mode": {
    "name": "ipython",
    "version": 3
   },
   "file_extension": ".py",
   "mimetype": "text/x-python",
   "name": "python",
   "nbconvert_exporter": "python",
   "pygments_lexer": "ipython3",
   "version": "3.12.4"
  }
 },
 "nbformat": 4,
 "nbformat_minor": 5
}

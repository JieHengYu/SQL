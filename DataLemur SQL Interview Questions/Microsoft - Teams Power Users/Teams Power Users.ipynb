{
 "cells": [
  {
   "cell_type": "markdown",
   "id": "e4dde820-5239-4187-9186-93aeb520e408",
   "metadata": {},
   "source": [
    "# Teams Power Users\n",
    "\n",
    "Write a query to identify the top 2 Power Users who sent the highest number of messages on Microsoft Teams in August 2022. Display the IDs of these 2 users along with the total number of messages they send. Output the results in descending order based on the count of the messages.\n",
    "\n",
    "Assumption:\n",
    "\n",
    "* No two users have send the same number of messages in Auguest 2022.\n",
    "\n",
    "# Answer\n",
    "\n",
    "Here's the `messages` table:\n",
    "\n",
    "```\n",
    "CREATE TABLE messages (\n",
    "\tmessage_id smallint,\n",
    "\tsender_id smallint,\n",
    "\treceiver_id smallint,\n",
    "\tcontent text,\n",
    "\tsent_date timestamp\n",
    ");\n",
    "\n",
    "INSERT INTO messages \n",
    "VALUES (901, 3601, 4500, 'You up?', '08/03/2022 00:00:00'),\n",
    "\t   (902, 4500, 3601, 'Only if you''re buying', '08/03/2022 00:00:00'),\n",
    "\t   (743, 3601, 8752, 'Let''s take this offline', '06/14/2022 00:00:00'),\n",
    "\t   (922, 3601, 4500, 'Get on the call', '08/10/2022 00:00:00');\n",
    "\n",
    "SELECT * FROM messages;\n",
    "```\n",
    "\n",
    "<img src = \"messages Table.png\" width = \"600\" style = \"margin:auto\"/>\n",
    "\n",
    "```\n",
    "WITH messages_aug_2022\n",
    "AS (\n",
    "\tSELECT *\n",
    "\tFROM messages\n",
    "\tWHERE date_part('month', sent_date) = 8\n",
    "\t\tAND date_part('year', sent_date) = 2022\n",
    ")\n",
    "SELECT sender_id,\n",
    "\t   count(*) AS messages_sent\n",
    "FROM messages_aug_2022\n",
    "GROUP BY sender_id\n",
    "ORDER BY count(*) DESC;\n",
    "```\n",
    "\n",
    "First, I filtered out the messages that were sent in August 2022. Then I grouped by `sender_id` before counting the number of messages.\n",
    "\n",
    "<img src = \"Number of Messages Sent in August 2022.png\" width = \"600\" style = \"margin:auto\"/>\n",
    "\n",
    "Sender 3601 sent 2 messages and Sender 4500 sent 1 message in August 2022."
   ]
  }
 ],
 "metadata": {
  "kernelspec": {
   "display_name": "Python 3 (ipykernel)",
   "language": "python",
   "name": "python3"
  },
  "language_info": {
   "codemirror_mode": {
    "name": "ipython",
    "version": 3
   },
   "file_extension": ".py",
   "mimetype": "text/x-python",
   "name": "python",
   "nbconvert_exporter": "python",
   "pygments_lexer": "ipython3",
   "version": "3.12.4"
  }
 },
 "nbformat": 4,
 "nbformat_minor": 5
}

{
 "cells": [
  {
   "cell_type": "markdown",
   "id": "588c6a07-8426-44a2-96d8-39c3afb0249a",
   "metadata": {},
   "source": [
    "# Cards Issued Difference\n",
    "\n",
    "Your team at JPMorgan Chase is preparing to launch a new credit card, & to gain some insights, you're analysing how many credit cards were issued each month.\n",
    "\n",
    "Write a query that outputs the name of each credit card & the difference in the number of issued cards between the month with the highest issuance cards & the lowest issuance. Arrange the results based on the largest disparity.\n",
    "\n",
    "# Answer\n",
    "\n",
    "This is the `monthly_cards_issued` table:\n",
    "\n",
    "```\n",
    "CREATE TABLE monthly_cards_issued (\n",
    "\tcard_name text,\n",
    "\tissued_amount integer,\n",
    "\tissue_month smallint,\n",
    "\tissue_year smallint\n",
    ");\n",
    "\n",
    "INSERT INTO monthly_cards_issued\n",
    "VALUES ('Chase Freedom Flex', 55000, 1, 2021),\n",
    "\t   ('Chase Freedom Flex', 60000, 2, 2021),\n",
    "\t   ('Chase Freedom Flex', 65000, 3, 2021),\n",
    "\t   ('Chase Freedom Flex', 70000, 4, 2021),\n",
    "\t   ('Chase Sapphire Reserve', 170000, 1, 2021),\n",
    "\t   ('Chase Sapphire Reserve', 175000, 2, 2021),\n",
    "\t   ('Chase Sapphire Reserve', 180000, 3, 2021);\n",
    "\n",
    "SELECT * FROM monthly_cards_issued;\n",
    "```\n",
    "\n",
    "<img src = \"monthly_cards_issued Table.png\" width = \"600\" style = \"margin:auto\"/>\n",
    "\n",
    "I'll group by `card_name` & subtract the minimum `issued_amount` from its maximum.\n",
    "\n",
    "```\n",
    "SELECT card_name,\n",
    "\t   max(issued_amount) - min(issued_amount)\n",
    "\t   \t   AS difference\n",
    "FROM monthly_cards_issued\n",
    "GROUP BY card_name;\n",
    "```\n",
    "\n",
    "<img src = \"Card Issued Amount Disparity.png\" width = \"600\" style = \"margin:auto\"/>\n",
    "\n",
    "The disparity between the highest & lowest issued amount for the Chase Freedom Flex card was 15000. The disparity between the highest & lowest issued amount for the Chase Sapphire Reserve card was 10000."
   ]
  }
 ],
 "metadata": {
  "kernelspec": {
   "display_name": "Python 3 (ipykernel)",
   "language": "python",
   "name": "python3"
  },
  "language_info": {
   "codemirror_mode": {
    "name": "ipython",
    "version": 3
   },
   "file_extension": ".py",
   "mimetype": "text/x-python",
   "name": "python",
   "nbconvert_exporter": "python",
   "pygments_lexer": "ipython3",
   "version": "3.12.4"
  }
 },
 "nbformat": 4,
 "nbformat_minor": 5
}

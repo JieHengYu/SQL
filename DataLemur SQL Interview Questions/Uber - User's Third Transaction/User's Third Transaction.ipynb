{
 "cells": [
  {
   "cell_type": "markdown",
   "id": "12965bbb-d807-415d-8bd3-b6d0819ed75f",
   "metadata": {},
   "source": [
    "# User's Third Transaction\n",
    "\n",
    "Assume you are given the table `transactions` on Uber transactions made by users. Write a query to obtain the third transaction of every user. Output the user id, spend & transaction date.\n",
    "\n",
    "# Answer\n",
    "\n",
    "This is the `transactions` table:\n",
    "\n",
    "```\n",
    "CREATE TABLE transactions (\n",
    "\tuser_id smallint,\n",
    "\tspend numeric(5, 2),\n",
    "\ttransaction_date timestamp\n",
    ");\n",
    "\n",
    "INSERT INTO transactions\n",
    "VALUES (111, 100.50, '01/08/2022 12:00:00'),\n",
    "\t   (111, 55.00, '01/10/2022 12:00:00'),\n",
    "\t   (121, 36.00, '01/18/2022 12:00:00'),\n",
    "\t   (145, 24.99, '01/26/2022 12:00:00'),\n",
    "\t   (111, 89.60, '02/05/2022 12:00:00'),\n",
    "\t   (145, 45.30, '02/28/2022 12:00:00'),\n",
    "\t   (121, 22.20, '04/01/2022 12:00:00'),\n",
    "\t   (121, 67.90, '04/03/2022 12:00:00'),\n",
    "\t   (263, 156.00, '04/11/2022 12:00:00'),\n",
    "\t   (230, 78.30, '06/14/2022 12:00:00'),\n",
    "\t   (263, 68.12, '07/11/2022 12:00:00'),\n",
    "\t   (263, 100.00, '07/12/2022 12:00:00');\n",
    "\n",
    "SELECT * FROM transactions;\n",
    "```\n",
    "\n",
    "<img src = \"transactions Table.png\" width = \"600\" style = \"margin:auto\"/>\n",
    "\n",
    "This seems like a query where I use a ranking function. Since ranking functions are window functions & they can only be used within the `SELECT` clause, I'll write a subquery.\n",
    "\n",
    "```\n",
    "SELECT user_id, spend, transaction_date\n",
    "FROM (\n",
    "\tSELECT *,\n",
    "\t\t   dense_rank() OVER (PARTITION BY user_id \n",
    "\t\t   \t   ORDER BY transaction_date) \n",
    "\t\t\t   AS transaction_num\n",
    "\tFROM transactions\n",
    ")\n",
    "WHERE transaction_num = 3;\n",
    "```\n",
    "\n",
    "<img src = \"Users' Third Transaction.png\" width = \"600\" style = \"margin:auto\"/>\n",
    "\n",
    "There are three users who made at least 3 transactions. User 111 spent 89.60 units for his/her 3rd transaction. User 121 spent 67.90 units for his/her 3rd transaction. User 263 spent 100.00 units for his/her 3rd transaction."
   ]
  }
 ],
 "metadata": {
  "kernelspec": {
   "display_name": "Python 3 (ipykernel)",
   "language": "python",
   "name": "python3"
  },
  "language_info": {
   "codemirror_mode": {
    "name": "ipython",
    "version": 3
   },
   "file_extension": ".py",
   "mimetype": "text/x-python",
   "name": "python",
   "nbconvert_exporter": "python",
   "pygments_lexer": "ipython3",
   "version": "3.12.4"
  }
 },
 "nbformat": 4,
 "nbformat_minor": 5
}

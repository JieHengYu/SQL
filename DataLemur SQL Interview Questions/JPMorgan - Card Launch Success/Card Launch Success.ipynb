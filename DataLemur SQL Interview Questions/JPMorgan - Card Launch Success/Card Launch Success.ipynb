{
 "cells": [
  {
   "cell_type": "markdown",
   "id": "b5b906a4-81b8-498d-b336-7bb4844b8e6b",
   "metadata": {},
   "source": [
    "# Card Launch Success\n",
    "\n",
    "Your team at JPMorgan Chase is soon launching a new credit card. You are asked to estimate how many cards you'll issue in the first month.\n",
    "\n",
    "Before you can answer this question, you want to first get some perspective on how well new credit card launches typically do in their first month. \n",
    "\n",
    "Write a query that outputs the name of the credit card, & how many cards were issued in its launch month. The launch month is the earliest record in the `monthly_cards_issued` table for a given card. Order the results starting from the biggest issued amount.\n",
    "\n",
    "# Answer\n",
    "\n",
    "I'm reusing the `monthly_cards_issued` table:\n",
    "\n",
    "```\n",
    "SELECT * FROM monthly_cards_issued;\n",
    "```\n",
    "\n",
    "<img src = \"monthly_cards_issued Table.png\" width = \"600\" style = \"margin:auto\"/>\n",
    "\n",
    "Ok, since the launch date is defined, this makes & all cards were launched in 2021, it makes things a lot simpler.\n",
    "\n",
    "```\n",
    "SELECT launch.card_name,\n",
    "\t   mci.issued_amount,\n",
    "\t   mci.issue_month,\n",
    "\t   mci.issue_year\n",
    "FROM (\n",
    "\tSELECT card_name,\n",
    "\t\t   min(issue_month)\n",
    "\tFROM monthly_cards_issued\n",
    "\tGROUP BY card_name\n",
    ") AS launch\n",
    "LEFT JOIN monthly_cards_issued AS mci\n",
    "\tON launch.card_name = mci.card_name\n",
    "\t\tAND launch.min = mci.issue_month;\n",
    "```\n",
    "\n",
    "<img src = \"Issue Card Launch.png\" width = \"600\" style = \"margin:auto\"/>\n",
    "\n",
    "In its first month after launch -- January 2021 -- Chase issued 55k Chase Freedom Flex cards & 170k Chase Sapphire Reserve cards."
   ]
  }
 ],
 "metadata": {
  "kernelspec": {
   "display_name": "Python 3 (ipykernel)",
   "language": "python",
   "name": "python3"
  },
  "language_info": {
   "codemirror_mode": {
    "name": "ipython",
    "version": 3
   },
   "file_extension": ".py",
   "mimetype": "text/x-python",
   "name": "python",
   "nbconvert_exporter": "python",
   "pygments_lexer": "ipython3",
   "version": "3.12.4"
  }
 },
 "nbformat": 4,
 "nbformat_minor": 5
}

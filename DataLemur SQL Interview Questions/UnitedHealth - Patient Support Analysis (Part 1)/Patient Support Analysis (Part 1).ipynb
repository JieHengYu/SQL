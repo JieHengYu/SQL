{
 "cells": [
  {
   "cell_type": "markdown",
   "id": "34e06635-36f8-4080-86fc-bb9b518d2756",
   "metadata": {},
   "source": [
    "# Patient Support Analysis\n",
    "\n",
    "UnitedHealth Group (UHG) has a program called Advocate4Me, which allows policy holders (or, members) to call an advocate & receive support for their health care needs - whether that's claims & benefits support drug coverage, pre- & post-authorisation, medical records, emergency assistance, or member portal services.\n",
    "\n",
    "Write a query to find how many UHG policy holders made three, or more calls, assuming each call is identified by the `case_id` column.\n",
    "\n",
    "# Answer\n",
    "\n",
    "This is the `callers` table:\n",
    "\n",
    "```\n",
    "CREATE TABLE callers (\n",
    "\tpolicy_holder_id smallint,\n",
    "\tcase_id text,\n",
    "\tcall_category text,\n",
    "\tcall_date timestamp,\n",
    "\tcall_duration_secs smallint\n",
    ");\n",
    "\n",
    "COPY callers\n",
    "FROM '/YourDirectory/callers.csv'\n",
    "WITH (FORMAT CSV, HEADER);\n",
    "\n",
    "SELECT * FROM callers;\n",
    "```\n",
    "\n",
    "<img src = \"callers Table.png\" width = \"600\" style = \"margin:auto\"/>\n",
    "\n",
    "Seems like I should group by `policy_holder_id` & count the number of calls.\n",
    "\n",
    "```\n",
    "SELECT policy_holder_id,\n",
    "\t   count(DISTINCT case_id)\n",
    "FROM callers\n",
    "GROUP BY policy_holder_id\n",
    "HAVING count(DISTINCT case_id) >= 3;\n",
    "```\n",
    "\n",
    "<img src = \"Policy Holders Call Count.png\" width = \"600\" style = \"margin:auto\"/>\n",
    "\n",
    "Ok, these are all the policy holders who made 3 or more calls. Let's count all of them up.\n",
    "\n",
    "```\n",
    "SELECT count(*) AS policy_holder_count\n",
    "FROM (\n",
    "    SELECT policy_holder_id,\n",
    "    \t   count(DISTINCT case_id)\n",
    "    FROM callers\n",
    "    GROUP BY policy_holder_id\n",
    "    HAVING count(DISTINCT case_id) >= 3;\n",
    ");\n",
    "```\n",
    "\n",
    "<img src = \"Policy Holder Count.png\" width = \"600\" style = \"margin:auto\"/>\n",
    "\n",
    "There are 38 policy holders who made 3 or more calls to receive support for their health care needs."
   ]
  }
 ],
 "metadata": {
  "kernelspec": {
   "display_name": "Python 3 (ipykernel)",
   "language": "python",
   "name": "python3"
  },
  "language_info": {
   "codemirror_mode": {
    "name": "ipython",
    "version": 3
   },
   "file_extension": ".py",
   "mimetype": "text/x-python",
   "name": "python",
   "nbconvert_exporter": "python",
   "pygments_lexer": "ipython3",
   "version": "3.12.4"
  }
 },
 "nbformat": 4,
 "nbformat_minor": 5
}

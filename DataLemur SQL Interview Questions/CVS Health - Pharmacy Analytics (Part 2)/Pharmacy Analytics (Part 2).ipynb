{
 "cells": [
  {
   "cell_type": "markdown",
   "id": "bb614c9f-0b5e-4d9f-8876-6078673e518a",
   "metadata": {},
   "source": [
    "# Pharmacy Analytics (Part 2)\n",
    "\n",
    "CVS Health is analysing its pharmacy sales data, & how well different products are selling in the market. Each drug is exclusively manufactured by a single manufacturer.  \n",
    "\n",
    "Write a query to identify the manufacturers associated with the drugs that resulted in losses for CVS Health & calculate the total amount of losses incurred. \n",
    "\n",
    "Output the manufacturer's name, the number of drugs associated with the losses, & the total losses in absolute value. Display the results sorted in descending order with the highest loss displayed at the top.\n",
    "\n",
    "# Answer\n",
    "\n",
    "I'll be reusing the `pharmacy_sales` table from part 1.\n",
    "\n",
    "```\n",
    "SELECT * FROM pharmacy_sales;\n",
    "```\n",
    "\n",
    "<img src = \"pharmacy_sales Table.png\" width = \"600\" style = \"margin:auto\"/>\n",
    "\n",
    "First, I'll get the sales data of drugs that were not profitable.\n",
    "\n",
    "```\n",
    "SELECT * \n",
    "FROM pharmacy_sales\n",
    "WHERE total_sales - cogs < 0;\n",
    "```\n",
    "\n",
    "<img src = \"pharmacy_sales Table.png\" width = \"600\" style = \"margin:auto\"/>\n",
    "\n",
    "There were 18 drugs that weren't profitable. Now with these 18 drugs, I'll group by manufacturer & find out the total loss.\n",
    "\n",
    "```\n",
    "WITH unprofitable_sales\n",
    "AS (\n",
    "\tSELECT * \n",
    "\tFROM pharmacy_sales\n",
    "\tWHERE total_sales - cogs < 0\n",
    ")\n",
    "SELECT manufacturer,\n",
    "\t   count(drug) AS drug_count,\n",
    "\t   abs(sum(total_sales - cogs)) AS total_loss\n",
    "FROM unprofitable_sales\n",
    "GROUP BY manufacturer\n",
    "ORDER BY total_loss DESC\n",
    "LIMIT 3;\n",
    "```\n",
    "\n",
    "<img src = \"Top 3 Most Unprofitable Manufacturers.png\" width = \"600\" style = \"margin:auto\"/>\n",
    "\n",
    "Johnson & Johnson has the highest number of unprofitable drugs, 6, totaling to almost 900k units in losses. "
   ]
  }
 ],
 "metadata": {
  "kernelspec": {
   "display_name": "Python 3 (ipykernel)",
   "language": "python",
   "name": "python3"
  },
  "language_info": {
   "codemirror_mode": {
    "name": "ipython",
    "version": 3
   },
   "file_extension": ".py",
   "mimetype": "text/x-python",
   "name": "python",
   "nbconvert_exporter": "python",
   "pygments_lexer": "ipython3",
   "version": "3.12.4"
  }
 },
 "nbformat": 4,
 "nbformat_minor": 5
}

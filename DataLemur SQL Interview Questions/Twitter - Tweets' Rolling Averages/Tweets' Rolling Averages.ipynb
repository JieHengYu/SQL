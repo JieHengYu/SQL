{
 "cells": [
  {
   "cell_type": "markdown",
   "id": "1d422328-e64e-409f-94c4-d27e8a2c16f1",
   "metadata": {},
   "source": [
    "# Tweets' Rolling Averages\n",
    "\n",
    "Given a table of tweet data over a specified time period, calculate the 3-day rolling average of tweets for each user. Output the user ID, tweet date, & rolling averages rounded to 2 decimal places.\n",
    "\n",
    "Notes:\n",
    "\n",
    "* A rolling average, also known as a moving average or running mean, is a time-series technique that examines trends in data over a specified period of time.\n",
    "* In this case, we want to determine how the tweet count for each user changes over a 3-day period.\n",
    "\n",
    "# Answer\n",
    "\n",
    "I'll be using this table, `tweets2`:\n",
    "\n",
    "```\n",
    "CREATE TABLE tweets2 (\n",
    "\tuser_id smallint,\n",
    "\ttweet_date timestamp,\n",
    "\ttweet_count smallint\n",
    ");\n",
    "\n",
    "COPY tweets2\n",
    "FROM '/YourDirectory/tweets2.csv'\n",
    "WITH (FORMAT CSV, HEADER);\n",
    "\n",
    "SELECT * FROM tweets2;\n",
    "```\n",
    "\n",
    "<img src = \"tweets2 Table.png\" width = \"600\" style = \"margin:auto\"/>\n",
    "\n",
    "I will group by `user_id` & then perform the rolling average.\n",
    "\n",
    "```\n",
    "SELECT user_id, tweet_date,\n",
    "\t   round(avg(tweet_count) OVER (ORDER BY user_id, \n",
    "\t   \t   tweet_date ROWS BETWEEN 2 PRECEDING AND\n",
    "\t\t   CURRENT ROW), 2) AS three_day_avg\n",
    "FROM tweets2;\n",
    "```\n",
    "\n",
    "Boom.\n",
    "\n",
    "<img src = \"3-Day Moving Average.png\" width = \"600\" style = \"margin:auto\"/>\n",
    "\n"
   ]
  }
 ],
 "metadata": {
  "kernelspec": {
   "display_name": "Python 3 (ipykernel)",
   "language": "python",
   "name": "python3"
  },
  "language_info": {
   "codemirror_mode": {
    "name": "ipython",
    "version": 3
   },
   "file_extension": ".py",
   "mimetype": "text/x-python",
   "name": "python",
   "nbconvert_exporter": "python",
   "pygments_lexer": "ipython3",
   "version": "3.12.4"
  }
 },
 "nbformat": 4,
 "nbformat_minor": 5
}

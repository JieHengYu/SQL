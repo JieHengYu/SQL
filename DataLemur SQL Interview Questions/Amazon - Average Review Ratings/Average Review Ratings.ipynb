{
 "cells": [
  {
   "cell_type": "markdown",
   "id": "b1a73d89-cd26-4080-b4ea-5a233c97e62b",
   "metadata": {},
   "source": [
    "# Average Review Ratings\n",
    "\n",
    "Given the `reviews` table, write a query to retrieve the average star rating for each product, grouped by month. The output should display the month as a numerical value, product ID, & average star rating rounded to two decimal places. Sort the output first by month & then by product ID.\n",
    "\n",
    "# Answer\n",
    "\n",
    "This is the `reviews` table:\n",
    "\n",
    "```\n",
    "CREATE TABLE reviews (\n",
    "\treview_id smallint,\n",
    "\tuser_id smallint,\n",
    "\tsubmit_date timestamp,\n",
    "\tproduct_id integer,\n",
    "\tstars smallint CHECK (stars IN (1, 2, 3, 4, 5))\n",
    ");\n",
    "\n",
    "INSERT INTO reviews\n",
    "VALUES (6171, 123, '06/08/2022 00:00:00', 50001, 4),\n",
    "\t   (7802, 265, '06/10/2022 00:00:00', 69852, 4),\n",
    "\t   (5293, 362, '06/18/2022 00:00:00', 50001, 3),\n",
    "\t   (6352, 192, '07/26/2022 00:00:00', 69852, 3),\n",
    "\t   (4517, 981, '07/05/2022 00:00:00', 69852, 2);\n",
    "\n",
    "SELECT * FROM reviews;\n",
    "```\n",
    "\n",
    "<img src = \"reviews Table.png\" width = \"600\" style = \"margin:auto\"/>\n",
    "\n",
    "The result should be something like this:\n",
    "\n",
    "```\n",
    "SELECT date_part('month', submit_date) AS month,\n",
    "\t   product_id,\n",
    "\t   round(avg(stars), 2) AS rating\n",
    "FROM reviews\n",
    "GROUP BY date_part('month', submit_date), product_id\n",
    "ORDER BY month, product_id;\n",
    "```\n",
    "\n",
    "<img src = \"Average Rating by Month & Product.png\" width = \"600\" style = \"margin:auto\"/>\n",
    "\n",
    "Product 50001 had an average star rating of 3.5 for month 6. Product 69582 saw a decrease in average star rating from 4 in month 6 to 2.5 in month 7."
   ]
  }
 ],
 "metadata": {
  "kernelspec": {
   "display_name": "Python 3 (ipykernel)",
   "language": "python",
   "name": "python3"
  },
  "language_info": {
   "codemirror_mode": {
    "name": "ipython",
    "version": 3
   },
   "file_extension": ".py",
   "mimetype": "text/x-python",
   "name": "python",
   "nbconvert_exporter": "python",
   "pygments_lexer": "ipython3",
   "version": "3.12.4"
  }
 },
 "nbformat": 4,
 "nbformat_minor": 5
}

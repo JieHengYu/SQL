{
 "cells": [
  {
   "cell_type": "markdown",
   "id": "070d911a-3c4d-438e-bc8e-0ce3f7ffe090",
   "metadata": {},
   "source": [
    "# Compressed Mode\n",
    "\n",
    "You're given a table containing the item count for each order on Alibaba, along with the frequency of orders that have the same item count. Write a query to retrieve the mode of the order occurrences. Additionally, if there are multiple item counts with the same mode, the results should be sorted in ascending order.\n",
    "\n",
    "Clarifications:\n",
    "\n",
    "* `item_count`: Represents the number of items sold in each order.\n",
    "* `order_occurrences`: Represents the frequency of orders with the corresponding number of items sold per order.\n",
    "* For example, if there are 800 orders with 3 items sold in each order, the record would have an `item_count` of `3` & an `order_occurrences` of 800.\n",
    "\n",
    "# Answer\n",
    "\n",
    "I'm going to reuse the `items_per_order` table:\n",
    "\n",
    "```\n",
    "SELECT * FROM items_per_order;\n",
    "```\n",
    "\n",
    "<img src = \"items_per_order Table.png\" width = \"600\" style = \"margin:auto\"/>\n",
    "\n",
    "`mode()` function time.\n",
    "\n",
    "```\n",
    "SELECT *\n",
    "FROM items_per_order\n",
    "WHERE order_occurrences = (SELECT mode() WITHIN\n",
    "    GROUP (ORDER BY order_occurrences DESC) FROM\n",
    "    items_per_order)\n",
    "ORDER BY item_count;\n",
    "```\n",
    "\n",
    "<img src = \"Mode of Order Occurrences.png\" width = \"600\" style = \"margin:auto\"/>\n",
    "\n",
    "People buy two or four items more frequently."
   ]
  }
 ],
 "metadata": {
  "kernelspec": {
   "display_name": "Python 3 (ipykernel)",
   "language": "python",
   "name": "python3"
  },
  "language_info": {
   "codemirror_mode": {
    "name": "ipython",
    "version": 3
   },
   "file_extension": ".py",
   "mimetype": "text/x-python",
   "name": "python",
   "nbconvert_exporter": "python",
   "pygments_lexer": "ipython3",
   "version": "3.12.4"
  }
 },
 "nbformat": 4,
 "nbformat_minor": 5
}

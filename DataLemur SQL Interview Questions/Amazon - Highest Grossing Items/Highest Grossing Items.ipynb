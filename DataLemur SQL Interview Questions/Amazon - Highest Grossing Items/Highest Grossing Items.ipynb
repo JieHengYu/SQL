{
 "cells": [
  {
   "cell_type": "markdown",
   "id": "389b7ac4-a39b-48ce-ae05-c9d7e4c0d1ab",
   "metadata": {},
   "source": [
    "# Highest Grossing Items\n",
    "\n",
    "Assume you're given a table containing data on Amazon customers & their spending on products in different categories. Write a query to identify the top two highest-grossing products within each category in the year 2022. The output should include the category, product, & total spend.\n",
    "\n",
    "# Answer\n",
    "\n",
    "This is the `product_spend` table:\n",
    "\n",
    "```\n",
    "CREATE TABLE product_spend (\n",
    "\tcategory text,\n",
    "\tproduct text,\n",
    "\tuser_id smallint,\n",
    "\tspend numeric(5, 2),\n",
    "\ttransaction_date timestamp\n",
    ");\n",
    "\n",
    "COPY product_spend\n",
    "FROM '/YourDirectory/product_spend.csv'\n",
    "WITH (FORMAT CSV, HEADER);\n",
    "\n",
    "SELECT * FROM product_spend;\n",
    "```\n",
    "\n",
    "<img src = \"product_spend Table.png\" width = \"600\" style = \"margin:auto\"/>\n",
    "\n",
    "Seems like this query requires a ranking function.\n",
    "\n",
    "```\n",
    "SELECT category, product, spend\n",
    "FROM (\n",
    "\tSELECT *,\n",
    "\t\t   dense_rank() OVER (PARTITION BY category \n",
    "\t\t   \t   ORDER BY spend DESC)\n",
    "\tFROM product_spend\n",
    "\tWHERE date_part('year', transaction_date) = 2022\n",
    "\tORDER BY category, spend DESC\n",
    ")\n",
    "WHERE dense_rank <= 2;\n",
    "```\n",
    "\n",
    "<img src = \"Top 2 Grossing Products per Category.png\" width = \"600\" style = \"margin:auto\"/>\n",
    "\n",
    "The top 2 products in the \"appliance\" category are refrigerators & washing machines. The top 2 products in the \"electronics\" category are wireless headsets."
   ]
  }
 ],
 "metadata": {
  "kernelspec": {
   "display_name": "Python 3 (ipykernel)",
   "language": "python",
   "name": "python3"
  },
  "language_info": {
   "codemirror_mode": {
    "name": "ipython",
    "version": 3
   },
   "file_extension": ".py",
   "mimetype": "text/x-python",
   "name": "python",
   "nbconvert_exporter": "python",
   "pygments_lexer": "ipython3",
   "version": "3.12.4"
  }
 },
 "nbformat": 4,
 "nbformat_minor": 5
}

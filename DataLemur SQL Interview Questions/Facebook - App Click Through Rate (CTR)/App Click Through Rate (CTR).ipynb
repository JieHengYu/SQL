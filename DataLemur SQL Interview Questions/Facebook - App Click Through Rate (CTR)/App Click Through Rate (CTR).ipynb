{
 "cells": [
  {
   "cell_type": "markdown",
   "id": "7c7fda93-abf0-4a85-b769-9c02a19366cc",
   "metadata": {},
   "source": [
    "# App Click Through Rate (CTR)\n",
    "\n",
    "Assume you have an `events` table on Facebook app analytics. Write a query to calculate the click-through rate (CTR) for the app in 2022 & round the results to 2 decimal places.\n",
    "\n",
    "Definition & note:\n",
    "\n",
    "* Percentage of click-through rate (CTR) = 100.0 * Number of clicks/Number of impressions\n",
    "* To avoid integer division, multiply the CTR by 100.0, not 100\n",
    "\n",
    "# Answer\n",
    "\n",
    "Let's see what the `events` table looks like:\n",
    "\n",
    "```\n",
    "CREATE TABLE events (\n",
    "\tapp_id smallint,\n",
    "\tevent_type varchar(20),\n",
    "\ttimestamp timestamp\n",
    ");\n",
    "\n",
    "INSERT INTO events\n",
    "VALUES (123, 'impression', '07/18/2022 11:36:12'),\n",
    "\t   (123, 'impression', '07/18/2022 11:37:12'),\n",
    "\t   (123, 'click', '07/18/2022 11:37:42'),\n",
    "\t   (234, 'impression', '07/18/2022 14:15:12'),\n",
    "\t   (234, 'click', '07/18/2022 14:16:12');\n",
    "\n",
    "SELECT * FROM events;\n",
    "```\n",
    "\n",
    "<img src = \"events Table.png\" width = \"600\" style = \"margin:auto\"/>\n",
    "\n",
    "Looks like I'll have to group by `app_id`, find the number of clicks, & find the number of impressions.\n",
    "\n",
    "```\n",
    "SELECT app_id,\n",
    "\t   count(*) FILTER (WHERE event_type = 'click')\n",
    "\t   \t   AS num_clicks,\n",
    "\t   count(*) FILTER (WHERE event_type = 'impression')\n",
    "\t   \t   AS num_impressions,\n",
    "\t   round((count(*) FILTER (WHERE event_type = \n",
    "\t   \t   'click'))::numeric / (count(*) FILTER (WHERE \n",
    "\t\t   event_type = 'impression')), 2) AS ctr\n",
    "FROM events\n",
    "GROUP BY app_id;\n",
    "```\n",
    "\n",
    "<img src = \"Click Through Rate.png\" width = \"600\" style = \"margin:auto\"/>\n",
    "\n",
    "Click through rate for app 123 is 50% & 100% for app 234."
   ]
  }
 ],
 "metadata": {
  "kernelspec": {
   "display_name": "Python 3 (ipykernel)",
   "language": "python",
   "name": "python3"
  },
  "language_info": {
   "codemirror_mode": {
    "name": "ipython",
    "version": 3
   },
   "file_extension": ".py",
   "mimetype": "text/x-python",
   "name": "python",
   "nbconvert_exporter": "python",
   "pygments_lexer": "ipython3",
   "version": "3.12.4"
  }
 },
 "nbformat": 4,
 "nbformat_minor": 5
}

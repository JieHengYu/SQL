{
 "cells": [
  {
   "cell_type": "markdown",
   "id": "705286ef-8ee3-444c-bdde-91369f435b81",
   "metadata": {},
   "source": [
    "# Repeated Payments\n",
    "\n",
    "Sometimes, payment transactions are repeated by accident; it could be due to user error, API failure or a retry error that causes a credit card to be charged twice.\n",
    "\n",
    "Using the transactions table, identify any payments made at the same merchant with the same credit card for the same amount within 10 minutes of each other. Count such repeated payments.\n",
    "\n",
    "Assumptions:\n",
    "\n",
    "* The first transaction of such payments should not be counted as a repeated payment. This means, if there are two transactions performed by a merchant with the same credit card & for the same amount in 10 minutes, there will only be 1 repeated payment.\n",
    "\n",
    "# Answer\n",
    "\n",
    "This requires the `transactions3` table:\n",
    "\n",
    "```\n",
    "CREATE TABLE transactions3 (\n",
    "\ttransaction_id smallint,\n",
    "\tmerchant_id smallint,\n",
    "\tcredit_card_id smallint,\n",
    "\ttransaction_timestamp timestamp,\n",
    "\tamount smallint\n",
    ");\n",
    "\n",
    "COPY transactions3\n",
    "FROM '/YourDirectory/transactions3.csv'\n",
    "WITH (FORMAT CSV, HEADER);\n",
    "\n",
    "SELECT * FROM transactions3;\n",
    "```\n",
    "\n",
    "<img src = \"transactions3 Table.png\" width = \"600\" style = \"margin:auto\"/>\n",
    "\n",
    "Seems like a job for self joining.\n",
    "\n",
    "```\n",
    "SELECT count(t2.transaction_id) AS num_repeated_payments\n",
    "FROM transactions3 AS t1\n",
    "LEFT JOIN transactions3 AS t2 \n",
    "\tUSING (merchant_id, credit_card_id)\n",
    "WHERE t1.transaction_timestamp < t2.transaction_timestamp\n",
    "\tAND t2.transaction_timestamp - \n",
    "\t\tt1.transaction_timestamp < '10 minutes'::interval;\n",
    "```\n",
    "\n",
    "<img src = \"Repeated Payment.png\" width = \"600\" style = \"margin:auto\"/>\n",
    "\n",
    "There are 3 instances of repeated payments."
   ]
  }
 ],
 "metadata": {
  "kernelspec": {
   "display_name": "Python 3 (ipykernel)",
   "language": "python",
   "name": "python3"
  },
  "language_info": {
   "codemirror_mode": {
    "name": "ipython",
    "version": 3
   },
   "file_extension": ".py",
   "mimetype": "text/x-python",
   "name": "python",
   "nbconvert_exporter": "python",
   "pygments_lexer": "ipython3",
   "version": "3.12.4"
  }
 },
 "nbformat": 4,
 "nbformat_minor": 5
}

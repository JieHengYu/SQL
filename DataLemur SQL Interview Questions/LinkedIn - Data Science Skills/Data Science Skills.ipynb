{
 "cells": [
  {
   "cell_type": "markdown",
   "id": "aaa61fe5-e764-4035-9e17-089e26939ddc",
   "metadata": {},
   "source": [
    "# Data Science Skills\n",
    "\n",
    "Given a table of candidates & their skills, you're tasked with finding the candidates best suited for an open Data Science job. You want to find candidates who are proficient in Python, Tableau, & PostgreSQL.\n",
    "\n",
    "Write a query to list the candidates who possess all of the required skills for the job. Sort the output by candidate ID in ascending order.\n",
    "\n",
    "**Assumption:** There are no duplicates in the `candidates` table.\n",
    "\n",
    "# Answer\n",
    "\n",
    "First, I'll take a look at the `candidates` table.\n",
    "\n",
    "```\n",
    "CREATE TABLE candidates (\n",
    "\tcandidate_id smallint,\n",
    "\tskill varchar(10)\n",
    ");\n",
    "\n",
    "INSERT INTO candidates\n",
    "VALUES (123, 'Python'),\n",
    "\t   (123, 'Tableau'),\n",
    "\t   (123, 'PostgreSQL'),\n",
    "\t   (234, 'R'),\n",
    "\t   (234, 'PowerBI'),\n",
    "\t   (234, 'SQL Server'),\n",
    "\t   (345, 'Python'),\n",
    "\t   (345, 'Tableau');\n",
    "\n",
    "SELECT * FROM candidates;\n",
    "```\n",
    "\n",
    "<img src = \"candidates Table.png\" width = \"600\" style = \"margin:auto\"/>\n",
    "\n",
    "I'll group by `candidate_id` & aggregate the skills as a single string. Then I can use string detection operations to find the candidate(s) with Python, Tableau, & PostgreSQL skills.\n",
    "\n",
    "```\n",
    "SELECT candidate_id,\n",
    "\t   array_agg(skill)::text AS skills\n",
    "FROM candidates\n",
    "GROUP BY candidate_id\n",
    "HAVING array_agg(skill)::text ILIKE '%python%'\n",
    "\tAND array_agg(skill)::text ILIKE '%tableau%'\n",
    "\tAND array_agg(skill)::text ILIKE '%postgresql%'\n",
    "ORDER BY candidate_id;\n",
    "```\n",
    "\n",
    "<img src = \"Candidate with Python, Tableau, & PostgreSQL Skills.png\" width = \"600\" style = \"margin:auto\"/>\n",
    "\n",
    "The candidate with `candidate_id` = 123 has Python, Tableau, & PostgreSQL skills."
   ]
  }
 ],
 "metadata": {
  "kernelspec": {
   "display_name": "Python 3 (ipykernel)",
   "language": "python",
   "name": "python3"
  },
  "language_info": {
   "codemirror_mode": {
    "name": "ipython",
    "version": 3
   },
   "file_extension": ".py",
   "mimetype": "text/x-python",
   "name": "python",
   "nbconvert_exporter": "python",
   "pygments_lexer": "ipython3",
   "version": "3.12.4"
  }
 },
 "nbformat": 4,
 "nbformat_minor": 5
}

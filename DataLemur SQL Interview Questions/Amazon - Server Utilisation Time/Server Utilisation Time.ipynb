{
 "cells": [
  {
   "cell_type": "markdown",
   "id": "2e6cd96f-8e51-4b38-861c-b6efec7d23fa",
   "metadata": {},
   "source": [
    "# Server Utilisation Time\n",
    "\n",
    "Amazon Web Services (AWS) is powered by fleets of servers. Senior management has requested data-driven solutions to optimise their server usage.\n",
    "\n",
    "Write a query that calculates the total time that the fleet of servers was running. The output should be in units of full days.\n",
    "\n",
    "Assumptions:\n",
    "\n",
    "* Each server might start & stop several times.\n",
    "* The total time in which the server fleet is running can be calculated as the sum of each server's uptime.\n",
    "\n",
    "# Answer\n",
    "\n",
    "This query requires the `server_utilization` table, which I'll import:\n",
    "\n",
    "```\n",
    "CREATE TABLE server_utilization (\n",
    "\tserver_id smallint,\n",
    "\tsession_status varchar(5),\n",
    "\tstatus_time timestamp\n",
    ");\n",
    "\n",
    "COPY server_utilization\n",
    "FROM '/Users/jiehengyu/Desktop/DataLemur SQL Interview Questions/Amazon - Server Utilisation Time/server_utilization.csv'\n",
    "WITH (FORMAT CSV, HEADER);\n",
    "\n",
    "SELECT * FROM server_utilization;\n",
    "```\n",
    "\n",
    "<img src = \"/server_utilization Table.png\" width = \"600\" style = \"margin:auto\"/>\n",
    "\n",
    "Self join query.\n",
    "\n",
    "```\n",
    "SELECT floor(sum(up_time_sec) / 86400) \n",
    "\t   \t   AS total_uptime_days\n",
    "FROM (\n",
    "\tSELECT extract(epoch FROM s2.status_time - \n",
    "\t\t   \t   s1.status_time) AS up_time_sec\n",
    "\tFROM server_utilization AS s1\n",
    "\tLEFT JOIN server_utilization AS s2 USING (server_id)\n",
    "\tWHERE s1.session_status = 'start'\n",
    "\t\tAND s2.session_status = 'stop'\n",
    "\t\tAND s1.status_time < s2.status_time\n",
    "\tORDER BY server_id\n",
    ");\n",
    "```\n",
    "\n",
    "<img src = \"Server Uptime in Full Days.png\" width = \"600\" style = \"margin:auto\"/>\n",
    "\n",
    "The servers have been up for 50 full days."
   ]
  }
 ],
 "metadata": {
  "kernelspec": {
   "display_name": "Python 3 (ipykernel)",
   "language": "python",
   "name": "python3"
  },
  "language_info": {
   "codemirror_mode": {
    "name": "ipython",
    "version": 3
   },
   "file_extension": ".py",
   "mimetype": "text/x-python",
   "name": "python",
   "nbconvert_exporter": "python",
   "pygments_lexer": "ipython3",
   "version": "3.12.4"
  }
 },
 "nbformat": 4,
 "nbformat_minor": 5
}

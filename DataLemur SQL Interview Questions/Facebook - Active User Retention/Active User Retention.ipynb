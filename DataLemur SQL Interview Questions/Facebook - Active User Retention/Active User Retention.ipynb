{
 "cells": [
  {
   "cell_type": "markdown",
   "id": "4d640192-c014-48b7-8740-f4069260b2c4",
   "metadata": {},
   "source": [
    "# Active User Retention\n",
    "\n",
    "Assume you're given a table containing information about Facebook user actions. Write a query to obtain the number of monthly active users (MAUs) in July 2022, including the month in numerical format \"1, 2, 3\".\n",
    "\n",
    "Hint:\n",
    "\n",
    "* An active user is defined as a user who has performed actions such as 'sign-in', 'like', or 'comment' in both the current month & the previous month.\n",
    "\n",
    "# Answer\n",
    "\n",
    "I import the `user_actions` table:\n",
    "\n",
    "```\n",
    "CREATE TABLE user_actions (\n",
    "\tuser_id smallint,\n",
    "\tevent_id smallint,\n",
    "\tevent_type varchar(10),\n",
    "\tevent_date timestamp\n",
    ");\n",
    "\n",
    "COPY user_actions\n",
    "FROM '/YourDirectory/user_actions.csv'\n",
    "WITH (FORMAT CSV, HEADER);\n",
    "\n",
    "SELECT * FROM user_actions;\n",
    "```\n",
    "\n",
    "<img src = \"user_actions Table.png\" width = \"600\" style = \"margin:auto\"/>\n",
    "\n",
    "God this query is tough. I'll still do it though.\n",
    "\n",
    "```\n",
    "WITH jul2022_active_users\n",
    "AS (\n",
    "\tSELECT ua1.user_id,\n",
    "\t\t   ua1.event_type AS prev_event,\n",
    "\t\t   ua1.event_date AS prev_event_date,\n",
    "\t\t   ua2.event_type AS curr_event,\n",
    "\t\t   ua2.event_date AS curr_event_date\n",
    "\tFROM user_actions AS ua1\n",
    "\tLEFT JOIN user_actions AS ua2\n",
    "\t\tON ua1.user_id = ua2.user_id\n",
    "\tWHERE date_part('month', ua1.event_date) + 1 = \n",
    "\t\tdate_part('month', ua2.event_date) AND\n",
    "\t\tto_char(ua2.event_date, 'Mon-YYYY') = 'Jul-2022'\n",
    ")\n",
    "SELECT date_part('month', curr_event_date),\n",
    "\t   count(DISTINCT user_id) \n",
    "FROM jul2022_active_users\n",
    "GROUP BY date_part('month', curr_event_date);\n",
    "```\n",
    "\n",
    "<img src = \"Active Users in July 2022.png\" width = \"600\" style = \"margin:auto\"/>\n",
    "\n",
    "In July 2022, there were two monthly active users."
   ]
  }
 ],
 "metadata": {
  "kernelspec": {
   "display_name": "Python 3 (ipykernel)",
   "language": "python",
   "name": "python3"
  },
  "language_info": {
   "codemirror_mode": {
    "name": "ipython",
    "version": 3
   },
   "file_extension": ".py",
   "mimetype": "text/x-python",
   "name": "python",
   "nbconvert_exporter": "python",
   "pygments_lexer": "ipython3",
   "version": "3.12.4"
  }
 },
 "nbformat": 4,
 "nbformat_minor": 5
}

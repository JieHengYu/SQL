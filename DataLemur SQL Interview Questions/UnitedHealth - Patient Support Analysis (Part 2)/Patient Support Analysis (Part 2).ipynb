{
 "cells": [
  {
   "cell_type": "markdown",
   "id": "4112b580-d1e2-46a4-af1b-b91da9f6977a",
   "metadata": {},
   "source": [
    "# Patient Support Analysis\n",
    "\n",
    "UnitedHealth Group (UHG) has a program called Advocate4Me, which allows policy holders (or, members) to call an advocate & receive support for their health care needs -- whether that's claims & benefits support, drug coverage, pre- & post-authorisation, medical records, emergency assiteance, or member portal services.\n",
    "\n",
    "Calls to the Advocate4Me call centre are classified into various categories, but some calls cannot be neatly categorised. These uncategorised calls are labeled as \"n/a\", or are left empty when the support agent does not enter anything into the call category field. \n",
    "\n",
    "Write a query to calculate the percentage of calls that cannot be categorised. Round your answer to 1 decimal place. For example, 45.0, 48.5, & 57.5.\n",
    "\n",
    "# Answer\n",
    "\n",
    "I'll be reusing the `callers` table:\n",
    "\n",
    "```\n",
    "SELECT * FROM callers;\n",
    "```\n",
    "\n",
    "<img src = \"callers Table.png\" width = \"600\" style = \"margin:auto\"/>\n",
    "\n",
    "Percentage calculation ok.\n",
    "\n",
    "```\n",
    "SELECT count(*) AS calls,\n",
    "\t   count(*) FILTER (WHERE call_category IN ('n/a', \n",
    "\t   \t   NULL)) AS uncat_calls,\n",
    "\t   round(((count(*) FILTER (WHERE call_category IN \n",
    "\t   \t   ('n/a', NULL)))::numeric / count(*)) * 100, 1)\n",
    "\t\t   AS uncat_call_pct\n",
    "FROM callers;\n",
    "```\n",
    "\n",
    "<img src = \"Uncategorised Call Percentage.png\" width = \"600\" style = \"margin:auto\"/>\n",
    "\n",
    "3% of calls were uncategorised."
   ]
  }
 ],
 "metadata": {
  "kernelspec": {
   "display_name": "Python 3 (ipykernel)",
   "language": "python",
   "name": "python3"
  },
  "language_info": {
   "codemirror_mode": {
    "name": "ipython",
    "version": 3
   },
   "file_extension": ".py",
   "mimetype": "text/x-python",
   "name": "python",
   "nbconvert_exporter": "python",
   "pygments_lexer": "ipython3",
   "version": "3.12.4"
  }
 },
 "nbformat": 4,
 "nbformat_minor": 5
}

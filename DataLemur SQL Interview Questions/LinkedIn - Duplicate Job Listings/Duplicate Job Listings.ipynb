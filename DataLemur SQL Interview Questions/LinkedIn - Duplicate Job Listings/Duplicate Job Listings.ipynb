{
 "cells": [
  {
   "cell_type": "markdown",
   "id": "7c557e51-4c74-4ab8-8c59-9a9117a2c575",
   "metadata": {},
   "source": [
    "# Duplicate Job Listings\n",
    "\n",
    "Assume you're given a table `job_listings` containing job postings from various companies on the LinkedIn platform. Write a query to retrieve the count of companies that have posted duplicate job listings.\n",
    "\n",
    "Definition:\n",
    "\n",
    "* Duplicate job listings are defined as two job listings within the same company that share identical titles & descriptions.\n",
    "\n",
    "# Answer\n",
    "\n",
    "Here is the `job_listings` table:\n",
    "\n",
    "```\n",
    "CREATE TABLE job_listings (\n",
    "\tjob_id smallint,\n",
    "\tcompany_id smallint,\n",
    "\ttitle text,\n",
    "\tdescription text\n",
    ");\n",
    "\n",
    "INSERT INTO job_listings\n",
    "VALUES (248, 827, 'Business Analyst', 'Business analyst evaluates past & current business data with the primary goal of improving decision-making processes within organisations.'),\n",
    "\t   (149, 845, 'Business Analyst', 'Business analyst evaluates past & current business data with the primary goal of improving decision-making processes within organisations.'),\n",
    "\t   (945, 345, 'Data Analyst', 'Data analyst reviews data to identify key insights into a business''s customers & ways the data can be used to solve problems.'),\n",
    "\t   (164, 345, 'Data Analyst', 'Data analyst reviews data to identify key insights into a business''s customers & ways the data can be used to solve problems.'),\n",
    "\t   (172, 244, 'Data Engineer', 'Data engineer works in a variety of settings to build systems that collect, manage, & convert raw data into usable information for data scientists & business analysts to interpret.');\n",
    "\n",
    "SELECT * FROM job_listings;\n",
    "```\n",
    "\n",
    "<img src = \"job_listings Table.png\" width = \"600\" style = \"margin:auto\"/>\n",
    "\n",
    "Based on the definition, if we count the number of listings when grouping by title & company_id, we should be able to see if there are any duplicate job listings.\n",
    "\n",
    "```\n",
    "SELECT company_id,\n",
    "\t   title,\n",
    "\t   count(*) AS num_postings\n",
    "FROM job_listings\n",
    "GROUP BY company_id, title\n",
    "HAVING count(*) > 1;\n",
    "```\n",
    "\n",
    "<img src = \"Duplicate Job Posting.png\" width = \"600\" style = \"margin:auto\"/>\n",
    "\n",
    "Company 345 had duplicate job postings for the data analyst position."
   ]
  }
 ],
 "metadata": {
  "kernelspec": {
   "display_name": "Python 3 (ipykernel)",
   "language": "python",
   "name": "python3"
  },
  "language_info": {
   "codemirror_mode": {
    "name": "ipython",
    "version": 3
   },
   "file_extension": ".py",
   "mimetype": "text/x-python",
   "name": "python",
   "nbconvert_exporter": "python",
   "pygments_lexer": "ipython3",
   "version": "3.12.4"
  }
 },
 "nbformat": 4,
 "nbformat_minor": 5
}

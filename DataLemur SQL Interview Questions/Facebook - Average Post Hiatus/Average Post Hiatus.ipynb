{
 "cells": [
  {
   "cell_type": "markdown",
   "id": "c0e35a3c-fd2b-41c1-9e7b-04e2b0452482",
   "metadata": {},
   "source": [
    "# Average Post Hiatus\n",
    "\n",
    "Given a table of Facebook posts `posts`, for each user who posted at least twice in 2021, write a query to find the number of days between each user's first post of the year & last post of the year in the year 2021. Output the user & number of days between each user's first & last post.\n",
    "\n",
    "# Answer\n",
    "\n",
    "Here's the `posts` table.\n",
    "\n",
    "```\n",
    "CREATE TABLE posts (\n",
    "\tuser_id integer,\n",
    "\tpost_id integer,\n",
    "\tpost_content text,\n",
    "\tpost_date timestamp\n",
    ");\n",
    "\n",
    "INSERT INTO posts\n",
    "VALUES (151652, 599415, 'Need a hug', '07/10/2021 12:00:00'),\n",
    "\t   (661093, 624356, 'Bed. Class 8-12. Work 12-3. Gym 3-5 or 6. Then class 6-10. Another day that''s gonna fly by. I miss my girlfriend', '07/29/2021 13:00:00'),\n",
    "\t   (004239, 784254, 'Happy 4th of July!', '07/04/2021 11:00:00'),\n",
    "\t   (661093, 442560, 'Just going to cry myself to sleep after watching Marley and Me.', '07/08/2021 14:00:00'),\n",
    "\t   (151652, 111766, 'I''m so done with covid - need travelling ASAP!', '07/12/2021 19:00:00');\n",
    "\n",
    "SELECT * FROM posts;\n",
    "```\n",
    "\n",
    "<img src = \"posts Table.png\" width = \"600\" style = \"margin:auto\"/>\n",
    "\n",
    "Since, we're performing date math & I would like to round the result to the nearest day, I will convert the `post_date` column to epoch seconds before finding the difference between each user's first & last post. Then I'll divide the difference by the number of seconds in a day (60 * 60 * 24 = 86400) to get the answer in days.\n",
    "\n",
    "```\n",
    "SELECT user_id,\n",
    "\t   count(*) AS num_posts,\n",
    "\t   round((extract(epoch from max(post_date)) - \n",
    "\t   \t   extract(epoch from min(post_date))) / 86400)\n",
    "\t   \t   AS days_between\n",
    "FROM posts\n",
    "GROUP BY user_id\n",
    "HAVING count(*) >= 2;\n",
    "```\n",
    "\n",
    "<img src = \"Number of Days Between First & Last Post.png\" width = \"600\" style = \"margin:auto\"/>\n",
    "\n",
    "For the two users who posted at least twice, the number of days between user 151652's first & last post was about 2 days & the number of days between user 661093's first & last post was about 21 days."
   ]
  }
 ],
 "metadata": {
  "kernelspec": {
   "display_name": "Python 3 (ipykernel)",
   "language": "python",
   "name": "python3"
  },
  "language_info": {
   "codemirror_mode": {
    "name": "ipython",
    "version": 3
   },
   "file_extension": ".py",
   "mimetype": "text/x-python",
   "name": "python",
   "nbconvert_exporter": "python",
   "pygments_lexer": "ipython3",
   "version": "3.12.4"
  }
 },
 "nbformat": 4,
 "nbformat_minor": 5
}

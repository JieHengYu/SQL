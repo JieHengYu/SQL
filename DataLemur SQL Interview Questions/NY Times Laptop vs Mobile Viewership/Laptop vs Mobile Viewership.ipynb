{
 "cells": [
  {
   "cell_type": "markdown",
   "id": "26795369-1b64-4c61-b4dd-8c26d6d1f9f4",
   "metadata": {},
   "source": [
    "# Laptop vs Mobile Viewership\n",
    "\n",
    "Assume you're given the table, `viewership`, on user viewership categorised by device type where the three types are laptop, tablet, & phone.\n",
    "\n",
    "Write a query that calculates the total viewership for laptops & mobile devices where mobile is defined as the sum of tablet & phone viewership. Output the total viewership for laptops as `laptop_reviews` & the total viewership for mobile devices as `mobile_views`.\n",
    "\n",
    "# Answer\n",
    "\n",
    "Let's take a look at the `viewership` table.\n",
    "\n",
    "```\n",
    "CREATE TABLE viewership (\n",
    "\tuser_id smallint,\n",
    "\tdevice_type varchar(10),\n",
    "\tview_time timestamp\n",
    ");\n",
    "\n",
    "INSERT INTO viewership\n",
    "VALUES (123, 'tablet', '01/02/2022 00:00:00'),\n",
    "\t   (125, 'laptop', '01/07/2022 00:00:00'),\n",
    "\t   (128, 'laptop', '02/09/2022 00:00:00'),\n",
    "\t   (129, 'phone', '02/09/2022 00:00:00'),\n",
    "\t   (145, 'tablet', '02/24/2022 00:00:00');\n",
    "\n",
    "SELECT * FROM viewership;\n",
    "```\n",
    "\n",
    "<img src = \"viewership Table.png\" width = \"600\" style = \"margin:auto\"/>\n",
    "\n",
    "We can do conditional counts based on the `device_type` column.\n",
    "\n",
    "```\n",
    "SELECT count(*) FILTER (WHERE device_type = 'laptop')\n",
    "\t\t   AS laptop_views,\n",
    "\t   count(*) FILTER (WHERE device_type IN ('tablet',\n",
    "\t   \t   'phone')) AS mobile_views\n",
    "FROM viewership;\n",
    "```\n",
    "\n",
    "<img src = \"Laptop Views & Mobile Views.png\" width = \"600\" style = \"margin:auto\"/>\n",
    "\n",
    "There are 2 laptop views & 3 mobile views."
   ]
  }
 ],
 "metadata": {
  "kernelspec": {
   "display_name": "Python 3 (ipykernel)",
   "language": "python",
   "name": "python3"
  },
  "language_info": {
   "codemirror_mode": {
    "name": "ipython",
    "version": 3
   },
   "file_extension": ".py",
   "mimetype": "text/x-python",
   "name": "python",
   "nbconvert_exporter": "python",
   "pygments_lexer": "ipython3",
   "version": "3.12.4"
  }
 },
 "nbformat": 4,
 "nbformat_minor": 5
}

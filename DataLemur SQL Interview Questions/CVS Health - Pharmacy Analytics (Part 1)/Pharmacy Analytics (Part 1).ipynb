{
 "cells": [
  {
   "cell_type": "markdown",
   "id": "146b7246-b3d7-405f-9737-6845dd2d88d0",
   "metadata": {},
   "source": [
    "# Pharmacy Analytics\n",
    "\n",
    "CVS Health is trying to better understand its pharmacy sales, & how well different products are selling. Each drug can only be produced by one manufacturer.\n",
    "\n",
    "Write a query to find the top 3 most profitable drugs sold, & how much profit they made. Assume that they are no ties in the profits. Display the result from the highest to the lowest total profit.\n",
    "\n",
    "Definition:\n",
    "\n",
    "* `cogs` stands for Cost of Goods Sold, which is the direct cost associated with producing the drug.\n",
    "* Total Profit = Total Sales - Cost of Goods Sold\n",
    "\n",
    "# Answer\n",
    "\n",
    "This table is `pharmacy_sales`:\n",
    "\n",
    "```\n",
    "CREATE TABLE pharmacy_sales (\n",
    "\tproduct_id smallint,\n",
    "\tunits_sold integer,\n",
    "\ttotal_sales numeric(10, 2),\n",
    "\tcogs numeric(10, 2),\n",
    "\tmanufacturer text,\n",
    "\tdrug text\n",
    ");\n",
    "\n",
    "COPY pharmacy_sales\n",
    "FROM '/YourDirectory/pharmacy_sales.csv'\n",
    "WITH (FORMAT CSV, HEADER);\n",
    "\n",
    "SELECT * FROM pharmacy_sales;\n",
    "```\n",
    "\n",
    "<img src = \"pharmacy_sales Table.png\" width = \"600\" style = \"margin:auto\"/>\n",
    "\n",
    "I'll group by the `drug` column & sum the difference of `total_sales` & `cogs`.\n",
    "\n",
    "```\n",
    "SELECT drug,\n",
    "\t   sum(total_sales - cogs) AS total_profit\n",
    "FROM pharmacy_sales\n",
    "GROUP BY drug\n",
    "ORDER BY sum(total_sales - cogs) DESC\n",
    "LIMIT 3;\n",
    "```\n",
    "\n",
    "<img src = \"Top 3 Drug Profit.png\" width = \"600\" style = \"margin:auto\"/>\n",
    "\n",
    "Humira saw the highest total profit of about 81.5M units -- Keytruda recorded the second highest total profit of 11.6M units, & Dupixent had the third highest total profit of approx 11.2M units."
   ]
  }
 ],
 "metadata": {
  "kernelspec": {
   "display_name": "Python 3 (ipykernel)",
   "language": "python",
   "name": "python3"
  },
  "language_info": {
   "codemirror_mode": {
    "name": "ipython",
    "version": 3
   },
   "file_extension": ".py",
   "mimetype": "text/x-python",
   "name": "python",
   "nbconvert_exporter": "python",
   "pygments_lexer": "ipython3",
   "version": "3.12.4"
  }
 },
 "nbformat": 4,
 "nbformat_minor": 5
}

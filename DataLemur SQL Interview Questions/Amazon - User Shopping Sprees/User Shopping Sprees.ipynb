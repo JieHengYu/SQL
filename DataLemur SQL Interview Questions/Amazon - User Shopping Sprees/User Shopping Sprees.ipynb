{
 "cells": [
  {
   "cell_type": "markdown",
   "id": "e1370197-bc47-4b62-beb8-17a4c02e84f9",
   "metadata": {},
   "source": [
    "# User Shopping Sprees\n",
    "\n",
    "In an effort to identify high-value customers, Amazon asked for your help to obtain data about users who go on shopping sprees. A shopping spree occurs when a user makes purchases on 3 or more consecutive days.\n",
    "\n",
    "List the user IDs who have gone on at least 1 shopping spree in ascending order.\n",
    "\n",
    "# Answer\n",
    "\n",
    "For this query I will use the `transactions2` table:\n",
    "\n",
    "```\n",
    "CREATE TABLE transactions2 (\n",
    "\tuser_id smallint,\n",
    "\tamount numeric(5, 2),\n",
    "\ttransaction_date timestamp\n",
    ");\n",
    "\n",
    "COPY transactions2\n",
    "FROM '/YourDirectory/transactions2.csv'\n",
    "WITH (FORMAT CSV, HEADER);\n",
    "\n",
    "SELECT * FROM transactions2;\n",
    "```\n",
    "\n",
    "<img src = \"transactions2 Table.png\" width = \"600\" style = \"margin:auto\"/>\n",
    "\n",
    "Unfortunately, I'm unaware of any pivoting functions in PostgreSQL, if there are any at all, which would make this process a lot quicker, so I will have to perform a lot of joins.\n",
    "\n",
    "```\n",
    "SELECT t.user_id,\n",
    "\t   t.transaction_date AS day1,\n",
    "\t   t.amount AS day1_spent,\n",
    "\t   t1.transaction_date AS day2,\n",
    "\t   t1.amount AS day2_spent,\n",
    "\t   t2.transaction_date AS day3,\n",
    "\t   t2.amount AS day3_spent\n",
    "FROM transactions2 AS t\n",
    "LEFT JOIN transactions2 AS t1\n",
    "\tON t.user_id = t1.user_id\n",
    "LEFT JOIN transactions2 AS t2\n",
    "\tON t.user_id = t2.user_id\n",
    "WHERE t.transaction_date + '1 day'::interval = \n",
    "    t1.transaction_date AND t1.transaction_date +\n",
    "\t'1 day'::interval = t2.transaction_date;\n",
    "```\n",
    "\n",
    "<img src = \"3 Consecutive Days of Spending.png\" width = \"600\" style = \"margin:auto\"/>\n",
    "\n",
    "There are only two shoppers who went on a shopping spree, or bought something on three consecutive days, users 2 & 5."
   ]
  }
 ],
 "metadata": {
  "kernelspec": {
   "display_name": "Python 3 (ipykernel)",
   "language": "python",
   "name": "python3"
  },
  "language_info": {
   "codemirror_mode": {
    "name": "ipython",
    "version": 3
   },
   "file_extension": ".py",
   "mimetype": "text/x-python",
   "name": "python",
   "nbconvert_exporter": "python",
   "pygments_lexer": "ipython3",
   "version": "3.12.4"
  }
 },
 "nbformat": 4,
 "nbformat_minor": 5
}

{
 "cells": [
  {
   "cell_type": "markdown",
   "id": "a76ab1b6-1f20-41df-a68b-96fe82806db0",
   "metadata": {},
   "source": [
    "# Pharmacy Analytics (Part 3)\n",
    "\n",
    "CVS Health wants to gain a clearer understanding of its pharmacy sales & the performance of various products. \n",
    "\n",
    "Write a query to calculate the total drug sales for each manufacturer. Round the answer to the nearest million & report your results in descending order of total sales. In case of duplicates, sort them alphabetically by the manufacturer name.\n",
    "\n",
    "Since this data will be displayed on a dashboard viewed by business stakeholders, please format your results as follows: \"$36 million\".\n",
    "\n",
    "# Answer\n",
    "\n",
    "Once again, I'll be using the `pharmacy_sales` table:\n",
    "\n",
    "```\n",
    "SELECT * FROM pharmacy_sales;\n",
    "```\n",
    "\n",
    "<img src = \"pharmacy_sales Table.png\" width = \"600\" style = \"margin:auto\"/>\n",
    "\n",
    "I'll group by `manufacturer` & sum the `total_sales`, & perform string concatenation with `||`.\n",
    "\n",
    "```\n",
    "SELECT manufacturer,\n",
    "\t   '$' || round(sum(total_sales) / 1000000)::text  ||\n",
    "\t   \t   ' million' AS sales\n",
    "FROM pharmacy_sales\n",
    "GROUP BY manufacturer\n",
    "ORDER BY manufacturer;\n",
    "```\n",
    "\n",
    "<img src = \"Total Sales per Manufacturer.png\" width = \"600\" style = \"margin:auto\"/>\n",
    "\n",
    "Here is the total sales per manufacturer, rounded to the nearest million."
   ]
  }
 ],
 "metadata": {
  "kernelspec": {
   "display_name": "Python 3 (ipykernel)",
   "language": "python",
   "name": "python3"
  },
  "language_info": {
   "codemirror_mode": {
    "name": "ipython",
    "version": 3
   },
   "file_extension": ".py",
   "mimetype": "text/x-python",
   "name": "python",
   "nbconvert_exporter": "python",
   "pygments_lexer": "ipython3",
   "version": "3.12.4"
  }
 },
 "nbformat": 4,
 "nbformat_minor": 5
}

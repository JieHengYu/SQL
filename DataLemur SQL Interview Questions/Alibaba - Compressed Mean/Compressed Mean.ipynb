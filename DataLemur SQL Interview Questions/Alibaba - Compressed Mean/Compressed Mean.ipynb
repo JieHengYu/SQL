{
 "cells": [
  {
   "cell_type": "markdown",
   "id": "96e76602-87a1-4f0c-b2f4-a3778dc40d47",
   "metadata": {},
   "source": [
    "# Compressed Mean\n",
    "\n",
    "You're trying to find the mean number of items per order on Alibaba, rounded to 1 decimal place using tables which include information on the count of items in each order (`item_count` column) & the corresponding number of orders for each item count (`order_occurrences` column).\n",
    "\n",
    "# Answer\n",
    "\n",
    "Let's display the `item_count` table, which contains both the `item_count` & `order_occurrences` columns:\n",
    "\n",
    "```\n",
    "CREATE TABLE items_per_order (\n",
    "\titem_count smallserial,\n",
    "\torder_occurrences smallint\n",
    ");\n",
    "\n",
    "INSERT INTO items_per_order (order_occurrences)\n",
    "VALUES (500),\n",
    "\t   (1000),\n",
    "\t   (800),\n",
    "\t   (1000),\n",
    "\t   (500),\n",
    "\t   (550),\n",
    "\t   (400),\n",
    "\t   (200),\n",
    "\t   (10);\n",
    "\n",
    "SELECT * FROM items_per_order;\n",
    "```\n",
    "\n",
    "<img src = \"items_per_order Table.png\" width = \"600\" style = \"margin:auto\"/>\n",
    "\n",
    "The prompt is asking for the expected value, or mean, so that would be the sum of `item_count` multiplied by `order_occurences`, divided by the sum of `order_occurences`.\n",
    "\n",
    "```\n",
    "SELECT round(sum(item_count * order_occurrences)::numeric \n",
    "\t\t   / sum(order_occurrences), 1) AS mean\n",
    "FROM items_per_order;\n",
    "```\n",
    "\n",
    "<img src = \"Expected Item Count.png\" width = \"600\" style = \"margin:auto\"/>\n",
    "\n",
    "The expected item count is 3.9, or 4, in case there can't be a fraction."
   ]
  }
 ],
 "metadata": {
  "kernelspec": {
   "display_name": "Python 3 (ipykernel)",
   "language": "python",
   "name": "python3"
  },
  "language_info": {
   "codemirror_mode": {
    "name": "ipython",
    "version": 3
   },
   "file_extension": ".py",
   "mimetype": "text/x-python",
   "name": "python",
   "nbconvert_exporter": "python",
   "pygments_lexer": "ipython3",
   "version": "3.12.4"
  }
 },
 "nbformat": 4,
 "nbformat_minor": 5
}

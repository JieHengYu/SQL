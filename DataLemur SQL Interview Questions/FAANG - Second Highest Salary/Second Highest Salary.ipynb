{
 "cells": [
  {
   "cell_type": "markdown",
   "id": "a215194c-fbda-425c-9891-25b736c0f67b",
   "metadata": {},
   "source": [
    "# Second Highest Salary\n",
    "\n",
    "Imagine you're an HR analyst (I will never be an HR analyst & you shouldn't either) at a tech company tasked with analysing employee salaries. Your manager is keen on understanding the pay distribution & asks you to determine the second highest salary among all employees.\n",
    "\n",
    "It's possible that multiple employees may share the same second highest salary. In case of duplicate, display the salary only once.\n",
    "\n",
    "# Answer\n",
    "\n",
    "I'll be using the `employee2` table. \n",
    "\n",
    "```\n",
    "CREATE TABLE employee2 (\n",
    "\temployee_id smallserial,\n",
    "\tname text,\n",
    "\tsalary smallint,\n",
    "\tdepartment_id smallint,\n",
    "\tmanager_id smallint\n",
    ");\n",
    "\n",
    "COPY employee2\n",
    "FROM '/YourDirectory/employee2.csv'\n",
    "WITH (FORMAT CSV, HEADER, NULL 'NULL');\n",
    "\n",
    "SELECT * FROM employee2;\n",
    "```\n",
    "\n",
    "<img src = \"employee2 Table.png\" width = \"600\" style = \"margin:auto\"/>\n",
    "\n",
    "This seems like a job for the `dense_rank()` window function.\n",
    "\n",
    "```\n",
    "SELECT *,\n",
    "\t   dense_rank() OVER (ORDER BY salary DESC)\n",
    "FROM employee2\n",
    "ORDER BY salary DESC;\n",
    "```\n",
    "\n",
    "<img src = \"Employees Ranked by Salary.png\" width = \"600\" style = \"margin:auto\"/>\n",
    "\n",
    "Looks like there aren't any ties for the second highest salary. Now, we just need to display the second highest salary.\n",
    "\n",
    "```\n",
    "SELECT salary AS second_highest_salary\n",
    "FROM (\n",
    "    SELECT *,\n",
    "    \t   dense_rank() OVER (ORDER BY salary DESC)\n",
    "    FROM employee2\n",
    "    ORDER BY salary DESC\n",
    ")\n",
    "WHERE dense_rank = 2;\n",
    "```\n",
    "\n",
    "<img src = \"Second Highest Salary.png\">\n",
    "\n",
    "The second highest salary is 12500 units."
   ]
  }
 ],
 "metadata": {
  "kernelspec": {
   "display_name": "Python 3 (ipykernel)",
   "language": "python",
   "name": "python3"
  },
  "language_info": {
   "codemirror_mode": {
    "name": "ipython",
    "version": 3
   },
   "file_extension": ".py",
   "mimetype": "text/x-python",
   "name": "python",
   "nbconvert_exporter": "python",
   "pygments_lexer": "ipython3",
   "version": "3.12.4"
  }
 },
 "nbformat": 4,
 "nbformat_minor": 5
}
